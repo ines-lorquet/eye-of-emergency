{
 "cells": [
  {
   "cell_type": "code",
   "execution_count": 4,
   "id": "9b971ed9",
   "metadata": {},
   "outputs": [],
   "source": [
    "import numpy as np\n",
    "import pandas as pd\n",
    "import matplotlib as plt\n",
    "import seaborn as sns\n",
    "import matplotlib.pyplot as plt"
   ]
  },
  {
   "cell_type": "markdown",
   "id": "adecfe31",
   "metadata": {},
   "source": [
    "## Q1)"
   ]
  },
  {
   "cell_type": "code",
   "execution_count": 5,
   "id": "10c4a451",
   "metadata": {},
   "outputs": [
    {
     "data": {
      "text/html": [
       "<div>\n",
       "<style scoped>\n",
       "    .dataframe tbody tr th:only-of-type {\n",
       "        vertical-align: middle;\n",
       "    }\n",
       "\n",
       "    .dataframe tbody tr th {\n",
       "        vertical-align: top;\n",
       "    }\n",
       "\n",
       "    .dataframe thead th {\n",
       "        text-align: right;\n",
       "    }\n",
       "</style>\n",
       "<table border=\"1\" class=\"dataframe\">\n",
       "  <thead>\n",
       "    <tr style=\"text-align: right;\">\n",
       "      <th></th>\n",
       "      <th>id</th>\n",
       "      <th>keyword</th>\n",
       "      <th>location</th>\n",
       "      <th>text</th>\n",
       "      <th>target</th>\n",
       "      <th>hashtags</th>\n",
       "      <th>mentions</th>\n",
       "      <th>urls</th>\n",
       "      <th>tokens</th>\n",
       "      <th>vector</th>\n",
       "    </tr>\n",
       "  </thead>\n",
       "  <tbody>\n",
       "    <tr>\n",
       "      <th>0</th>\n",
       "      <td>1</td>\n",
       "      <td>NaN</td>\n",
       "      <td>NaN</td>\n",
       "      <td>our deeds are the reason of this may allah for...</td>\n",
       "      <td>1</td>\n",
       "      <td>earthquake</td>\n",
       "      <td>NaN</td>\n",
       "      <td>NaN</td>\n",
       "      <td>['deed', 'reason', 'may', 'allah', 'forgive', ...</td>\n",
       "      <td>[0. 0. 0. ... 0. 0. 0.]</td>\n",
       "    </tr>\n",
       "    <tr>\n",
       "      <th>1</th>\n",
       "      <td>4</td>\n",
       "      <td>NaN</td>\n",
       "      <td>NaN</td>\n",
       "      <td>forest fire near la ronge sask  canada</td>\n",
       "      <td>1</td>\n",
       "      <td>NaN</td>\n",
       "      <td>NaN</td>\n",
       "      <td>NaN</td>\n",
       "      <td>['forest', 'fire', 'near', 'la', 'ronge', 'sas...</td>\n",
       "      <td>[0. 0. 0. ... 0. 0. 0.]</td>\n",
       "    </tr>\n",
       "    <tr>\n",
       "      <th>2</th>\n",
       "      <td>5</td>\n",
       "      <td>NaN</td>\n",
       "      <td>NaN</td>\n",
       "      <td>all residents asked to  shelter in place  are ...</td>\n",
       "      <td>1</td>\n",
       "      <td>NaN</td>\n",
       "      <td>NaN</td>\n",
       "      <td>NaN</td>\n",
       "      <td>['resident', 'asked', 'shelter', 'place', 'not...</td>\n",
       "      <td>[0. 0. 0. ... 0. 0. 0.]</td>\n",
       "    </tr>\n",
       "    <tr>\n",
       "      <th>3</th>\n",
       "      <td>6</td>\n",
       "      <td>NaN</td>\n",
       "      <td>NaN</td>\n",
       "      <td>13 000 people receive evacuation orders in cal...</td>\n",
       "      <td>1</td>\n",
       "      <td>wildfires</td>\n",
       "      <td>NaN</td>\n",
       "      <td>NaN</td>\n",
       "      <td>['13', '000', 'people', 'receive', 'evacuation...</td>\n",
       "      <td>[0.         0.45036895 0.         ... 0.      ...</td>\n",
       "    </tr>\n",
       "    <tr>\n",
       "      <th>4</th>\n",
       "      <td>7</td>\n",
       "      <td>NaN</td>\n",
       "      <td>NaN</td>\n",
       "      <td>just got sent this photo from ruby as smoke fr...</td>\n",
       "      <td>1</td>\n",
       "      <td>alaska, wildfires</td>\n",
       "      <td>NaN</td>\n",
       "      <td>NaN</td>\n",
       "      <td>['got', 'sent', 'photo', 'ruby', 'smoke', 'pou...</td>\n",
       "      <td>[0. 0. 0. ... 0. 0. 0.]</td>\n",
       "    </tr>\n",
       "  </tbody>\n",
       "</table>\n",
       "</div>"
      ],
      "text/plain": [
       "   id keyword location                                               text  \\\n",
       "0   1     NaN      NaN  our deeds are the reason of this may allah for...   \n",
       "1   4     NaN      NaN             forest fire near la ronge sask  canada   \n",
       "2   5     NaN      NaN  all residents asked to  shelter in place  are ...   \n",
       "3   6     NaN      NaN  13 000 people receive evacuation orders in cal...   \n",
       "4   7     NaN      NaN  just got sent this photo from ruby as smoke fr...   \n",
       "\n",
       "   target           hashtags mentions urls  \\\n",
       "0       1         earthquake      NaN  NaN   \n",
       "1       1                NaN      NaN  NaN   \n",
       "2       1                NaN      NaN  NaN   \n",
       "3       1          wildfires      NaN  NaN   \n",
       "4       1  alaska, wildfires      NaN  NaN   \n",
       "\n",
       "                                              tokens  \\\n",
       "0  ['deed', 'reason', 'may', 'allah', 'forgive', ...   \n",
       "1  ['forest', 'fire', 'near', 'la', 'ronge', 'sas...   \n",
       "2  ['resident', 'asked', 'shelter', 'place', 'not...   \n",
       "3  ['13', '000', 'people', 'receive', 'evacuation...   \n",
       "4  ['got', 'sent', 'photo', 'ruby', 'smoke', 'pou...   \n",
       "\n",
       "                                              vector  \n",
       "0                            [0. 0. 0. ... 0. 0. 0.]  \n",
       "1                            [0. 0. 0. ... 0. 0. 0.]  \n",
       "2                            [0. 0. 0. ... 0. 0. 0.]  \n",
       "3  [0.         0.45036895 0.         ... 0.      ...  \n",
       "4                            [0. 0. 0. ... 0. 0. 0.]  "
      ]
     },
     "execution_count": 5,
     "metadata": {},
     "output_type": "execute_result"
    }
   ],
   "source": [
    "data_train = pd.read_csv('../data/lemmatizer_tfidf.csv')\n",
    "data_train.head()"
   ]
  },
  {
   "cell_type": "code",
   "execution_count": 6,
   "id": "e622173f",
   "metadata": {},
   "outputs": [
    {
     "data": {
      "text/plain": [
       "0    4342\n",
       "1    3271\n",
       "Name: target, dtype: int64"
      ]
     },
     "execution_count": 6,
     "metadata": {},
     "output_type": "execute_result"
    }
   ],
   "source": [
    "data_train.head(), data_train.shape\n",
    "data_train['target'].value_counts()"
   ]
  },
  {
   "cell_type": "code",
   "execution_count": 7,
   "id": "f8c7ef87",
   "metadata": {},
   "outputs": [
    {
     "data": {
      "text/html": [
       "<div>\n",
       "<style scoped>\n",
       "    .dataframe tbody tr th:only-of-type {\n",
       "        vertical-align: middle;\n",
       "    }\n",
       "\n",
       "    .dataframe tbody tr th {\n",
       "        vertical-align: top;\n",
       "    }\n",
       "\n",
       "    .dataframe thead th {\n",
       "        text-align: right;\n",
       "    }\n",
       "</style>\n",
       "<table border=\"1\" class=\"dataframe\">\n",
       "  <thead>\n",
       "    <tr style=\"text-align: right;\">\n",
       "      <th></th>\n",
       "      <th>id</th>\n",
       "      <th>keyword</th>\n",
       "      <th>location</th>\n",
       "      <th>text</th>\n",
       "      <th>hashtags</th>\n",
       "      <th>mentions</th>\n",
       "      <th>urls</th>\n",
       "      <th>tokens</th>\n",
       "      <th>vector</th>\n",
       "    </tr>\n",
       "  </thead>\n",
       "  <tbody>\n",
       "    <tr>\n",
       "      <th>0</th>\n",
       "      <td>1</td>\n",
       "      <td>NaN</td>\n",
       "      <td>NaN</td>\n",
       "      <td>our deeds are the reason of this may allah for...</td>\n",
       "      <td>earthquake</td>\n",
       "      <td>NaN</td>\n",
       "      <td>NaN</td>\n",
       "      <td>['deed', 'reason', 'may', 'allah', 'forgive', ...</td>\n",
       "      <td>[0. 0. 0. ... 0. 0. 0.]</td>\n",
       "    </tr>\n",
       "    <tr>\n",
       "      <th>1</th>\n",
       "      <td>4</td>\n",
       "      <td>NaN</td>\n",
       "      <td>NaN</td>\n",
       "      <td>forest fire near la ronge sask  canada</td>\n",
       "      <td>NaN</td>\n",
       "      <td>NaN</td>\n",
       "      <td>NaN</td>\n",
       "      <td>['forest', 'fire', 'near', 'la', 'ronge', 'sas...</td>\n",
       "      <td>[0. 0. 0. ... 0. 0. 0.]</td>\n",
       "    </tr>\n",
       "    <tr>\n",
       "      <th>2</th>\n",
       "      <td>5</td>\n",
       "      <td>NaN</td>\n",
       "      <td>NaN</td>\n",
       "      <td>all residents asked to  shelter in place  are ...</td>\n",
       "      <td>NaN</td>\n",
       "      <td>NaN</td>\n",
       "      <td>NaN</td>\n",
       "      <td>['resident', 'asked', 'shelter', 'place', 'not...</td>\n",
       "      <td>[0. 0. 0. ... 0. 0. 0.]</td>\n",
       "    </tr>\n",
       "    <tr>\n",
       "      <th>3</th>\n",
       "      <td>6</td>\n",
       "      <td>NaN</td>\n",
       "      <td>NaN</td>\n",
       "      <td>13 000 people receive evacuation orders in cal...</td>\n",
       "      <td>wildfires</td>\n",
       "      <td>NaN</td>\n",
       "      <td>NaN</td>\n",
       "      <td>['13', '000', 'people', 'receive', 'evacuation...</td>\n",
       "      <td>[0.         0.45036895 0.         ... 0.      ...</td>\n",
       "    </tr>\n",
       "    <tr>\n",
       "      <th>4</th>\n",
       "      <td>7</td>\n",
       "      <td>NaN</td>\n",
       "      <td>NaN</td>\n",
       "      <td>just got sent this photo from ruby as smoke fr...</td>\n",
       "      <td>alaska, wildfires</td>\n",
       "      <td>NaN</td>\n",
       "      <td>NaN</td>\n",
       "      <td>['got', 'sent', 'photo', 'ruby', 'smoke', 'pou...</td>\n",
       "      <td>[0. 0. 0. ... 0. 0. 0.]</td>\n",
       "    </tr>\n",
       "  </tbody>\n",
       "</table>\n",
       "</div>"
      ],
      "text/plain": [
       "   id keyword location                                               text  \\\n",
       "0   1     NaN      NaN  our deeds are the reason of this may allah for...   \n",
       "1   4     NaN      NaN             forest fire near la ronge sask  canada   \n",
       "2   5     NaN      NaN  all residents asked to  shelter in place  are ...   \n",
       "3   6     NaN      NaN  13 000 people receive evacuation orders in cal...   \n",
       "4   7     NaN      NaN  just got sent this photo from ruby as smoke fr...   \n",
       "\n",
       "            hashtags mentions urls  \\\n",
       "0         earthquake      NaN  NaN   \n",
       "1                NaN      NaN  NaN   \n",
       "2                NaN      NaN  NaN   \n",
       "3          wildfires      NaN  NaN   \n",
       "4  alaska, wildfires      NaN  NaN   \n",
       "\n",
       "                                              tokens  \\\n",
       "0  ['deed', 'reason', 'may', 'allah', 'forgive', ...   \n",
       "1  ['forest', 'fire', 'near', 'la', 'ronge', 'sas...   \n",
       "2  ['resident', 'asked', 'shelter', 'place', 'not...   \n",
       "3  ['13', '000', 'people', 'receive', 'evacuation...   \n",
       "4  ['got', 'sent', 'photo', 'ruby', 'smoke', 'pou...   \n",
       "\n",
       "                                              vector  \n",
       "0                            [0. 0. 0. ... 0. 0. 0.]  \n",
       "1                            [0. 0. 0. ... 0. 0. 0.]  \n",
       "2                            [0. 0. 0. ... 0. 0. 0.]  \n",
       "3  [0.         0.45036895 0.         ... 0.      ...  \n",
       "4                            [0. 0. 0. ... 0. 0. 0.]  "
      ]
     },
     "execution_count": 7,
     "metadata": {},
     "output_type": "execute_result"
    }
   ],
   "source": [
    "df = data_train.drop(columns=['target'])\n",
    "df.head()"
   ]
  },
  {
   "cell_type": "markdown",
   "id": "52c85db0",
   "metadata": {},
   "source": [
    "## Q2)"
   ]
  },
  {
   "cell_type": "code",
   "execution_count": 8,
   "id": "21b0867a",
   "metadata": {},
   "outputs": [],
   "source": [
    "def get_missing_rate(df):\n",
    "    print(\"Nombres de lignes dupliqués : \", df.duplicated().sum())\n",
    "    print(\"Pourcentage des valeurs manquantes dans chaque colonnes:\")\n",
    "    print(df.isna().sum()/df.shape[0] * 100)"
   ]
  },
  {
   "cell_type": "markdown",
   "id": "5a4a6293",
   "metadata": {},
   "source": [
    "- Train :"
   ]
  },
  {
   "cell_type": "code",
   "execution_count": 9,
   "id": "7b101504",
   "metadata": {},
   "outputs": [
    {
     "name": "stdout",
     "output_type": "stream",
     "text": [
      "Nombres de lignes dupliqués :  0\n",
      "Pourcentage des valeurs manquantes dans chaque colonnes:\n",
      "id           0.000000\n",
      "keyword      0.801261\n",
      "location    33.272035\n",
      "text         0.000000\n",
      "hashtags    77.104952\n",
      "mentions    73.610929\n",
      "urls        47.839222\n",
      "tokens       0.000000\n",
      "vector       0.000000\n",
      "dtype: float64\n"
     ]
    }
   ],
   "source": [
    "get_missing_rate(df)"
   ]
  },
  {
   "cell_type": "markdown",
   "id": "c3bedbe2",
   "metadata": {},
   "source": [
    "Notre dataset contient environ 33 % de valeurs manquantes dans la colonne location. Supprimer ces lignes ne serait pas pertinent, car cela reviendrait à perdre un tiers de nos données.\n",
    "\n",
    "Étant donné que notre objectif est de classer des tweets, les variables les plus utiles sont keyword et text. La localisation n’a pas d’impact direct sur le contenu ou le sens du tweet, donc nous pouvons laisser cette colonne vide sans nuire à notre analyse.\n",
    "\n",
    "Nous poursuivons donc l’exploration des données sans imputer ou supprimer les valeurs manquantes de location."
   ]
  }
 ],
 "metadata": {
  "kernelspec": {
   "display_name": "eye-of-emergency",
   "language": "python",
   "name": "python3"
  },
  "language_info": {
   "codemirror_mode": {
    "name": "ipython",
    "version": 3
   },
   "file_extension": ".py",
   "mimetype": "text/x-python",
   "name": "python",
   "nbconvert_exporter": "python",
   "pygments_lexer": "ipython3",
   "version": "3.10.4"
  }
 },
 "nbformat": 4,
 "nbformat_minor": 5
}
