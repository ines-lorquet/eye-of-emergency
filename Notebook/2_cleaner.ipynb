{
 "cells": [
  {
   "cell_type": "code",
   "execution_count": 142,
   "id": "2a290af6",
   "metadata": {},
   "outputs": [],
   "source": [
    "import pandas as pd\n",
    "from text_mining import TextMining\n",
    "import numpy as np"
   ]
  },
  {
   "cell_type": "markdown",
   "id": "9a5e9de7",
   "metadata": {},
   "source": [
    "### Importer le CSV"
   ]
  },
  {
   "cell_type": "code",
   "execution_count": 143,
   "id": "27635f84",
   "metadata": {},
   "outputs": [],
   "source": [
    "df = pd.read_csv('../data/train_tweets_processed.csv', index_col=False)"
   ]
  },
  {
   "cell_type": "markdown",
   "id": "c39130f5",
   "metadata": {},
   "source": [
    "### Traitement des valeurs nuls ou non pertinentes"
   ]
  },
  {
   "cell_type": "code",
   "execution_count": 144,
   "id": "02cab5bd",
   "metadata": {},
   "outputs": [],
   "source": [
    "df.drop_duplicates(inplace=True)\n"
   ]
  },
  {
   "cell_type": "code",
   "execution_count": 145,
   "id": "387d3516",
   "metadata": {},
   "outputs": [
    {
     "name": "stdout",
     "output_type": "stream",
     "text": [
      "(7613, 11)\n",
      "<class 'pandas.core.frame.DataFrame'>\n",
      "Int64Index: 7613 entries, 0 to 7612\n",
      "Data columns (total 11 columns):\n",
      " #   Column             Non-Null Count  Dtype  \n",
      "---  ------             --------------  -----  \n",
      " 0   id                 7613 non-null   int64  \n",
      " 1   keyword            7552 non-null   object \n",
      " 2   location           5080 non-null   object \n",
      " 3   text               7613 non-null   object \n",
      " 4   target             7613 non-null   int64  \n",
      " 5   word_count         7613 non-null   int64  \n",
      " 6   stop_word_count    7613 non-null   int64  \n",
      " 7   url_count          7613 non-null   int64  \n",
      " 8   mean_word_length   7613 non-null   float64\n",
      " 9   char_count         7613 non-null   int64  \n",
      " 10  punctuation_count  7613 non-null   int64  \n",
      "dtypes: float64(1), int64(7), object(3)\n",
      "memory usage: 713.7+ KB\n"
     ]
    }
   ],
   "source": [
    "print(df.shape)\n",
    "df.info()"
   ]
  },
  {
   "cell_type": "markdown",
   "id": "792b6963",
   "metadata": {},
   "source": [
    "### Gestion  des valeurs manquantes\n",
    "\n",
    "Au lieu de supprimer 33% des données avec `dropna()`, considérons cette approche :"
   ]
  },
  {
   "cell_type": "code",
   "execution_count": 146,
   "id": "102c7c90",
   "metadata": {},
   "outputs": [
    {
     "name": "stdout",
     "output_type": "stream",
     "text": [
      "Données conservées de location : 7613 lignes (vs 7613 avec dropna)\n",
      "Pourcentage conservé : 100.0%\n",
      "Données conservées de keyword : 7613 lignes (vs 7613 avec dropna)\n",
      "Pourcentage conservé : 100.0%\n"
     ]
    }
   ],
   "source": [
    "def replace_missing_values(series, default_value):\n",
    "    df[series] = df[series].fillna(default_value)\n",
    "\n",
    "    print(f\"Données conservées de {series} : {df.shape[0]} lignes (vs {df.shape[0]} avec dropna)\")\n",
    "    print(f\"Pourcentage conservé : {df.shape[0]/7613*100:.1f}%\")\n",
    "\n",
    "replace_missing_values('location', \"\")\n",
    "replace_missing_values('keyword', \"\")"
   ]
  },
  {
   "cell_type": "markdown",
   "id": "28d9f971",
   "metadata": {},
   "source": [
    "### Proportion target"
   ]
  },
  {
   "cell_type": "code",
   "execution_count": 147,
   "id": "0ff86436",
   "metadata": {},
   "outputs": [],
   "source": [
    "df_0 = df[df['target'] == 0]\n",
    "df_1 = df[df['target'] == 1]\n",
    "\n",
    "df_0_sampled = df_0.sample(n=len(df_1), random_state=42)\n",
    "\n",
    "df = pd.concat([df_0_sampled, df_1], axis=0).sample(frac=1, random_state=42)  # shuffle le tout\n"
   ]
  },
  {
   "cell_type": "code",
   "execution_count": 148,
   "id": "3735ce77",
   "metadata": {},
   "outputs": [
    {
     "data": {
      "text/plain": [
       "0    0.5\n",
       "1    0.5\n",
       "Name: target, dtype: float64"
      ]
     },
     "execution_count": 148,
     "metadata": {},
     "output_type": "execute_result"
    }
   ],
   "source": [
    "df['target'].value_counts(normalize=True)"
   ]
  },
  {
   "cell_type": "code",
   "execution_count": 149,
   "id": "1df627a2",
   "metadata": {},
   "outputs": [],
   "source": [
    "tm = TextMining(df, text_column=\"text\")\n",
    "df_clean = (\n",
    "    tm.lowercase()\n",
    "      .remove_accents()\n",
    "      .extract_target_char(\"#\", \"hashtags\")\n",
    "      .extract_target_char(\"@\", \"mentions\")\n",
    "      .extract_url()\n",
    "      .clean_regex([\"text\"])\n",
    "      .tokenize()\n",
    "      .remove_stopwords()\n",
    "      .remove_short_tokens()\n",
    "      .apply_lemmatizer()\n",
    "      .build_clean_text()\n",
    "      .get_df()\n",
    ")\n",
    "\n",
    "# df_clean.to_csv()"
   ]
  },
  {
   "cell_type": "code",
   "execution_count": 150,
   "id": "6326165d",
   "metadata": {},
   "outputs": [
    {
     "data": {
      "text/html": [
       "<div>\n",
       "<style scoped>\n",
       "    .dataframe tbody tr th:only-of-type {\n",
       "        vertical-align: middle;\n",
       "    }\n",
       "\n",
       "    .dataframe tbody tr th {\n",
       "        vertical-align: top;\n",
       "    }\n",
       "\n",
       "    .dataframe thead th {\n",
       "        text-align: right;\n",
       "    }\n",
       "</style>\n",
       "<table border=\"1\" class=\"dataframe\">\n",
       "  <thead>\n",
       "    <tr style=\"text-align: right;\">\n",
       "      <th></th>\n",
       "      <th>text</th>\n",
       "      <th>target</th>\n",
       "      <th>word_count</th>\n",
       "      <th>stop_word_count</th>\n",
       "      <th>url_count</th>\n",
       "      <th>mean_word_length</th>\n",
       "      <th>char_count</th>\n",
       "      <th>punctuation_count</th>\n",
       "    </tr>\n",
       "  </thead>\n",
       "  <tbody>\n",
       "    <tr>\n",
       "      <th>4676</th>\n",
       "      <td>beyond all bounds  till inundation rise</td>\n",
       "      <td>0</td>\n",
       "      <td>6</td>\n",
       "      <td>1</td>\n",
       "      <td>0</td>\n",
       "      <td>5.666667</td>\n",
       "      <td>39</td>\n",
       "      <td>1</td>\n",
       "    </tr>\n",
       "    <tr>\n",
       "      <th>2423</th>\n",
       "      <td>three episodes left the end is nigh</td>\n",
       "      <td>0</td>\n",
       "      <td>7</td>\n",
       "      <td>2</td>\n",
       "      <td>0</td>\n",
       "      <td>4.142857</td>\n",
       "      <td>35</td>\n",
       "      <td>0</td>\n",
       "    </tr>\n",
       "    <tr>\n",
       "      <th>2568</th>\n",
       "      <td>industry tryna destroy cause he exposed they c...</td>\n",
       "      <td>0</td>\n",
       "      <td>10</td>\n",
       "      <td>2</td>\n",
       "      <td>0</td>\n",
       "      <td>5.700000</td>\n",
       "      <td>66</td>\n",
       "      <td>4</td>\n",
       "    </tr>\n",
       "    <tr>\n",
       "      <th>2760</th>\n",
       "      <td>nepal  rebuilding lives and livelihoods afte...</td>\n",
       "      <td>1</td>\n",
       "      <td>10</td>\n",
       "      <td>2</td>\n",
       "      <td>1</td>\n",
       "      <td>9.400000</td>\n",
       "      <td>103</td>\n",
       "      <td>8</td>\n",
       "    </tr>\n",
       "    <tr>\n",
       "      <th>7088</th>\n",
       "      <td>diageo s ceo stresses that a board revolt at u...</td>\n",
       "      <td>0</td>\n",
       "      <td>16</td>\n",
       "      <td>5</td>\n",
       "      <td>1</td>\n",
       "      <td>6.375000</td>\n",
       "      <td>117</td>\n",
       "      <td>6</td>\n",
       "    </tr>\n",
       "  </tbody>\n",
       "</table>\n",
       "</div>"
      ],
      "text/plain": [
       "                                                   text  target  word_count  \\\n",
       "4676            beyond all bounds  till inundation rise       0           6   \n",
       "2423                three episodes left the end is nigh       0           7   \n",
       "2568  industry tryna destroy cause he exposed they c...       0          10   \n",
       "2760    nepal  rebuilding lives and livelihoods afte...       1          10   \n",
       "7088  diageo s ceo stresses that a board revolt at u...       0          16   \n",
       "\n",
       "      stop_word_count  url_count  mean_word_length  char_count  \\\n",
       "4676                1          0          5.666667          39   \n",
       "2423                2          0          4.142857          35   \n",
       "2568                2          0          5.700000          66   \n",
       "2760                2          1          9.400000         103   \n",
       "7088                5          1          6.375000         117   \n",
       "\n",
       "      punctuation_count  \n",
       "4676                  1  \n",
       "2423                  0  \n",
       "2568                  4  \n",
       "2760                  8  \n",
       "7088                  6  "
      ]
     },
     "execution_count": 150,
     "metadata": {},
     "output_type": "execute_result"
    }
   ],
   "source": [
    "\n",
    "df_clean = df_clean[[c for c in df_clean.columns \n",
    "                    if df_clean[c].dtype != 'object' or c == 'text']]\n",
    "df_clean = df_clean.drop(columns='id')\n",
    "df_clean.head(10)\n",
    "# df_clean.to_csv(\"df_clean_v1.csv\", index=False)\n",
    "df_clean.head()"
   ]
  }
 ],
 "metadata": {
  "kernelspec": {
   "display_name": "eye-of-emergency",
   "language": "python",
   "name": "python3"
  },
  "language_info": {
   "codemirror_mode": {
    "name": "ipython",
    "version": 3
   },
   "file_extension": ".py",
   "mimetype": "text/x-python",
   "name": "python",
   "nbconvert_exporter": "python",
   "pygments_lexer": "ipython3",
   "version": "3.10.4"
  }
 },
 "nbformat": 4,
 "nbformat_minor": 5
}
