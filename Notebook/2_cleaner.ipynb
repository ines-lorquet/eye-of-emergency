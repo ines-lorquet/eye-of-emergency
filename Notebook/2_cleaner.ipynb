{
 "cells": [
  {
   "cell_type": "code",
   "execution_count": 142,
   "id": "2a290af6",
   "metadata": {},
   "outputs": [],
   "source": [
    "import pandas as pd\n",
    "from text_mining import TextMining\n",
    "import numpy as np"
   ]
  },
  {
   "cell_type": "markdown",
   "id": "9a5e9de7",
   "metadata": {},
   "source": [
    "### Importer le CSV"
   ]
  },
  {
   "cell_type": "code",
   "execution_count": 168,
   "id": "27635f84",
   "metadata": {},
   "outputs": [
    {
     "name": "stdout",
     "output_type": "stream",
     "text": [
      "<class 'pandas.core.frame.DataFrame'>\n",
      "RangeIndex: 4392 entries, 0 to 4391\n",
      "Data columns (total 18 columns):\n",
      " #   Column                   Non-Null Count  Dtype \n",
      "---  ------                   --------------  ----- \n",
      " 0   keyword                  4392 non-null   object\n",
      " 1   location                 4392 non-null   object\n",
      " 2   text                     4392 non-null   object\n",
      " 3   target                   4392 non-null   int64 \n",
      " 4   stop_word_count          4392 non-null   int64 \n",
      " 5   url_count                4392 non-null   int64 \n",
      " 6   mean_word_length         4392 non-null   object\n",
      " 7   char_count               4392 non-null   int64 \n",
      " 8   punctuation_count        4392 non-null   int64 \n",
      " 9   hashtags                 1073 non-null   object\n",
      " 10  mentions                 1222 non-null   object\n",
      " 11  urls                     2408 non-null   object\n",
      " 12  tokens                   4392 non-null   object\n",
      " 13  vector                   4392 non-null   object\n",
      " 14  has_top10_hashtag        4392 non-null   int64 \n",
      " 15  has_top10_keyword        4392 non-null   int64 \n",
      " 16  has_top_bigram           4392 non-null   int64 \n",
      " 17  nb_words_in_cooc_class1  4392 non-null   int64 \n",
      "dtypes: int64(9), object(9)\n",
      "memory usage: 617.8+ KB\n"
     ]
    }
   ],
   "source": [
    "df = pd.read_csv('../data/lemmatizer_features.csv', index_col=False)\n",
    "df.info()"
   ]
  },
  {
   "cell_type": "code",
   "execution_count": null,
   "id": "4428c367",
   "metadata": {},
   "outputs": [
    {
     "name": "stdout",
     "output_type": "stream",
     "text": [
      "<class 'pandas.core.frame.DataFrame'>\n",
      "RangeIndex: 4392 entries, 0 to 4391\n",
      "Data columns (total 16 columns):\n",
      " #   Column                   Non-Null Count  Dtype \n",
      "---  ------                   --------------  ----- \n",
      " 0   keyword                  4392 non-null   object\n",
      " 1   location                 4392 non-null   object\n",
      " 2   text                     4392 non-null   object\n",
      " 3   target                   4392 non-null   int64 \n",
      " 4   stop_word_count          4392 non-null   int64 \n",
      " 5   url_count                4392 non-null   int64 \n",
      " 6   mean_word_length         4392 non-null   object\n",
      " 7   char_count               4392 non-null   int64 \n",
      " 8   punctuation_count        4392 non-null   int64 \n",
      " 9   hashtags                 1073 non-null   object\n",
      " 10  mentions                 1222 non-null   object\n",
      " 11  urls                     2408 non-null   object\n",
      " 12  has_top10_hashtag        4392 non-null   int64 \n",
      " 13  has_top10_keyword        4392 non-null   int64 \n",
      " 14  has_top_bigram           4392 non-null   int64 \n",
      " 15  nb_words_in_cooc_class1  4392 non-null   int64 \n",
      "dtypes: int64(9), object(7)\n",
      "memory usage: 549.1+ KB\n",
      "<class 'pandas.core.frame.DataFrame'>\n",
      "RangeIndex: 4392 entries, 0 to 4391\n",
      "Data columns (total 16 columns):\n",
      " #   Column                   Non-Null Count  Dtype  \n",
      "---  ------                   --------------  -----  \n",
      " 0   keyword                  4392 non-null   object \n",
      " 1   location                 4392 non-null   object \n",
      " 2   text                     4392 non-null   object \n",
      " 3   target                   4392 non-null   int64  \n",
      " 4   stop_word_count          4392 non-null   int64  \n",
      " 5   url_count                4392 non-null   int64  \n",
      " 6   mean_word_length         4392 non-null   float64\n",
      " 7   char_count               4392 non-null   int64  \n",
      " 8   punctuation_count        4392 non-null   int64  \n",
      " 9   hashtags                 1073 non-null   object \n",
      " 10  mentions                 1222 non-null   object \n",
      " 11  urls                     2408 non-null   object \n",
      " 12  has_top10_hashtag        4392 non-null   int64  \n",
      " 13  has_top10_keyword        4392 non-null   int64  \n",
      " 14  has_top_bigram           4392 non-null   int64  \n",
      " 15  nb_words_in_cooc_class1  4392 non-null   int64  \n",
      "dtypes: float64(1), int64(9), object(6)\n",
      "memory usage: 549.1+ KB\n"
     ]
    },
    {
     "data": {
      "text/plain": [
       "dtype('float64')"
      ]
     },
     "execution_count": 169,
     "metadata": {},
     "output_type": "execute_result"
    }
   ],
   "source": [
    "df = df.drop(columns=['tokens', 'vector'])\n",
    "df.info()\n",
    "df['mean_word_length'] = (\n",
    "    df['mean_word_length']\n",
    "    .astype(str)\n",
    "    .str.replace(' ', '.', 1) \n",
    "    .str.replace(',', '.')\n",
    "    .astype(float)\n",
    ")\n",
    "df['mean_word_length'].dtypes\n",
    "df.info()"
   ]
  },
  {
   "cell_type": "markdown",
   "id": "c39130f5",
   "metadata": {},
   "source": [
    "### Traitement des valeurs nuls ou non pertinentes"
   ]
  },
  {
   "cell_type": "code",
   "execution_count": 170,
   "id": "02cab5bd",
   "metadata": {},
   "outputs": [],
   "source": [
    "df.drop_duplicates(inplace=True)\n"
   ]
  },
  {
   "cell_type": "code",
   "execution_count": 171,
   "id": "387d3516",
   "metadata": {},
   "outputs": [
    {
     "name": "stdout",
     "output_type": "stream",
     "text": [
      "(4376, 16)\n",
      "<class 'pandas.core.frame.DataFrame'>\n",
      "Int64Index: 4376 entries, 0 to 4391\n",
      "Data columns (total 16 columns):\n",
      " #   Column                   Non-Null Count  Dtype  \n",
      "---  ------                   --------------  -----  \n",
      " 0   keyword                  4376 non-null   object \n",
      " 1   location                 4376 non-null   object \n",
      " 2   text                     4376 non-null   object \n",
      " 3   target                   4376 non-null   int64  \n",
      " 4   stop_word_count          4376 non-null   int64  \n",
      " 5   url_count                4376 non-null   int64  \n",
      " 6   mean_word_length         4376 non-null   float64\n",
      " 7   char_count               4376 non-null   int64  \n",
      " 8   punctuation_count        4376 non-null   int64  \n",
      " 9   hashtags                 1062 non-null   object \n",
      " 10  mentions                 1218 non-null   object \n",
      " 11  urls                     2397 non-null   object \n",
      " 12  has_top10_hashtag        4376 non-null   int64  \n",
      " 13  has_top10_keyword        4376 non-null   int64  \n",
      " 14  has_top_bigram           4376 non-null   int64  \n",
      " 15  nb_words_in_cooc_class1  4376 non-null   int64  \n",
      "dtypes: float64(1), int64(9), object(6)\n",
      "memory usage: 581.2+ KB\n"
     ]
    }
   ],
   "source": [
    "print(df.shape)\n",
    "df.info()"
   ]
  },
  {
   "cell_type": "markdown",
   "id": "792b6963",
   "metadata": {},
   "source": [
    "### Gestion  des valeurs manquantes\n",
    "\n",
    "Au lieu de supprimer 33% des données avec `dropna()`, considérons cette approche :"
   ]
  },
  {
   "cell_type": "code",
   "execution_count": 173,
   "id": "102c7c90",
   "metadata": {},
   "outputs": [
    {
     "name": "stdout",
     "output_type": "stream",
     "text": [
      "Données conservées de location : 4376 lignes (vs 4376 avec dropna)\n",
      "Pourcentage conservé : 57.5%\n",
      "Données conservées de keyword : 4376 lignes (vs 4376 avec dropna)\n",
      "Pourcentage conservé : 57.5%\n"
     ]
    }
   ],
   "source": [
    "def replace_missing_values(series, default_value):\n",
    "    df[series] = df[series].fillna(default_value)\n",
    "\n",
    "    print(f\"Données conservées de {series} : {df.shape[0]} lignes (vs {df.shape[0]} avec dropna)\")\n",
    "    print(f\"Pourcentage conservé : {df.shape[0]/7613*100:.1f}%\")\n",
    "\n",
    "replace_missing_values('location', \"\")\n",
    "replace_missing_values('keyword', \"\")"
   ]
  },
  {
   "cell_type": "markdown",
   "id": "28d9f971",
   "metadata": {},
   "source": [
    "### Proportion target"
   ]
  },
  {
   "cell_type": "code",
   "execution_count": 176,
   "id": "0ff86436",
   "metadata": {},
   "outputs": [],
   "source": [
    "df_0 = df[df['target'] == 0]\n",
    "df_1 = df[df['target'] == 1]\n",
    "\n",
    "df_0_sampled = df_0.sample(n=len(df_1), random_state=42)\n",
    "\n",
    "df = pd.concat([df_0_sampled, df_1], axis=0).sample(frac=1, random_state=42)  # shuffle le tout\n"
   ]
  },
  {
   "cell_type": "code",
   "execution_count": 177,
   "id": "3735ce77",
   "metadata": {},
   "outputs": [
    {
     "data": {
      "text/plain": [
       "0    0.5\n",
       "1    0.5\n",
       "Name: target, dtype: float64"
      ]
     },
     "execution_count": 177,
     "metadata": {},
     "output_type": "execute_result"
    }
   ],
   "source": [
    "df['target'].value_counts(normalize=True)"
   ]
  },
  {
   "cell_type": "code",
   "execution_count": 178,
   "id": "1df627a2",
   "metadata": {},
   "outputs": [],
   "source": [
    "tm = TextMining(df, text_column=\"text\")\n",
    "df_clean = (\n",
    "    tm.lowercase()\n",
    "      .remove_accents()\n",
    "      .extract_target_char(\"#\", \"hashtags\")\n",
    "      .extract_target_char(\"@\", \"mentions\")\n",
    "      .extract_url()\n",
    "      .clean_regex([\"text\"])\n",
    "      .tokenize()\n",
    "      .remove_stopwords()\n",
    "      .remove_short_tokens()\n",
    "      .apply_lemmatizer()\n",
    "      .build_clean_text()\n",
    "      .get_df()\n",
    ")\n",
    "\n",
    "# df_clean.to_csv()"
   ]
  },
  {
   "cell_type": "code",
   "execution_count": 180,
   "id": "6326165d",
   "metadata": {},
   "outputs": [
    {
     "data": {
      "text/html": [
       "<div>\n",
       "<style scoped>\n",
       "    .dataframe tbody tr th:only-of-type {\n",
       "        vertical-align: middle;\n",
       "    }\n",
       "\n",
       "    .dataframe tbody tr th {\n",
       "        vertical-align: top;\n",
       "    }\n",
       "\n",
       "    .dataframe thead th {\n",
       "        text-align: right;\n",
       "    }\n",
       "</style>\n",
       "<table border=\"1\" class=\"dataframe\">\n",
       "  <thead>\n",
       "    <tr style=\"text-align: right;\">\n",
       "      <th></th>\n",
       "      <th>text</th>\n",
       "      <th>target</th>\n",
       "      <th>stop_word_count</th>\n",
       "      <th>url_count</th>\n",
       "      <th>mean_word_length</th>\n",
       "      <th>char_count</th>\n",
       "      <th>punctuation_count</th>\n",
       "      <th>has_top10_hashtag</th>\n",
       "      <th>has_top10_keyword</th>\n",
       "      <th>has_top_bigram</th>\n",
       "      <th>nb_words_in_cooc_class1</th>\n",
       "    </tr>\n",
       "  </thead>\n",
       "  <tbody>\n",
       "    <tr>\n",
       "      <th>374</th>\n",
       "      <td>battle of the goats</td>\n",
       "      <td>0</td>\n",
       "      <td>2</td>\n",
       "      <td>1</td>\n",
       "      <td>7.800000</td>\n",
       "      <td>44</td>\n",
       "      <td>5</td>\n",
       "      <td>0</td>\n",
       "      <td>0</td>\n",
       "      <td>0</td>\n",
       "      <td>0</td>\n",
       "    </tr>\n",
       "    <tr>\n",
       "      <th>4302</th>\n",
       "      <td>malaysia confirms plane debris washed up on re...</td>\n",
       "      <td>1</td>\n",
       "      <td>4</td>\n",
       "      <td>1</td>\n",
       "      <td>6.357143</td>\n",
       "      <td>102</td>\n",
       "      <td>5</td>\n",
       "      <td>0</td>\n",
       "      <td>0</td>\n",
       "      <td>0</td>\n",
       "      <td>0</td>\n",
       "    </tr>\n",
       "    <tr>\n",
       "      <th>2706</th>\n",
       "      <td>warne shocked over australia s epic collapse a...</td>\n",
       "      <td>1</td>\n",
       "      <td>2</td>\n",
       "      <td>1</td>\n",
       "      <td>7.500000</td>\n",
       "      <td>135</td>\n",
       "      <td>13</td>\n",
       "      <td>0</td>\n",
       "      <td>0</td>\n",
       "      <td>0</td>\n",
       "      <td>0</td>\n",
       "    </tr>\n",
       "    <tr>\n",
       "      <th>3930</th>\n",
       "      <td>nah but srsly b4 u demolish ur partner s face ...</td>\n",
       "      <td>0</td>\n",
       "      <td>5</td>\n",
       "      <td>0</td>\n",
       "      <td>5.478261</td>\n",
       "      <td>148</td>\n",
       "      <td>5</td>\n",
       "      <td>0</td>\n",
       "      <td>0</td>\n",
       "      <td>0</td>\n",
       "      <td>0</td>\n",
       "    </tr>\n",
       "    <tr>\n",
       "      <th>3169</th>\n",
       "      <td>probably a dead boring 1st hour and a half aft...</td>\n",
       "      <td>0</td>\n",
       "      <td>7</td>\n",
       "      <td>0</td>\n",
       "      <td>5.055556</td>\n",
       "      <td>108</td>\n",
       "      <td>7</td>\n",
       "      <td>0</td>\n",
       "      <td>0</td>\n",
       "      <td>0</td>\n",
       "      <td>0</td>\n",
       "    </tr>\n",
       "  </tbody>\n",
       "</table>\n",
       "</div>"
      ],
      "text/plain": [
       "                                                   text  target  \\\n",
       "374                                 battle of the goats       0   \n",
       "4302  malaysia confirms plane debris washed up on re...       1   \n",
       "2706  warne shocked over australia s epic collapse a...       1   \n",
       "3930  nah but srsly b4 u demolish ur partner s face ...       0   \n",
       "3169  probably a dead boring 1st hour and a half aft...       0   \n",
       "\n",
       "      stop_word_count  url_count  mean_word_length  char_count  \\\n",
       "374                 2          1          7.800000          44   \n",
       "4302                4          1          6.357143         102   \n",
       "2706                2          1          7.500000         135   \n",
       "3930                5          0          5.478261         148   \n",
       "3169                7          0          5.055556         108   \n",
       "\n",
       "      punctuation_count  has_top10_hashtag  has_top10_keyword  has_top_bigram  \\\n",
       "374                   5                  0                  0               0   \n",
       "4302                  5                  0                  0               0   \n",
       "2706                 13                  0                  0               0   \n",
       "3930                  5                  0                  0               0   \n",
       "3169                  7                  0                  0               0   \n",
       "\n",
       "      nb_words_in_cooc_class1  \n",
       "374                         0  \n",
       "4302                        0  \n",
       "2706                        0  \n",
       "3930                        0  \n",
       "3169                        0  "
      ]
     },
     "execution_count": 180,
     "metadata": {},
     "output_type": "execute_result"
    }
   ],
   "source": [
    "\n",
    "df_clean = df_clean[[c for c in df_clean.columns \n",
    "                    if df_clean[c].dtype != 'object' or c == 'text']]\n",
    "\n",
    "df_clean.head(10)\n",
    "# df_clean.to_csv(\"df_clean_v1.csv\", index=False)\n",
    "df_clean.head()"
   ]
  },
  {
   "cell_type": "code",
   "execution_count": 181,
   "id": "0c045c5e",
   "metadata": {},
   "outputs": [],
   "source": [
    "df_clean.to_csv(\"df_clean_v1.csv\", index=False)"
   ]
  }
 ],
 "metadata": {
  "kernelspec": {
   "display_name": "eye-of-emergency",
   "language": "python",
   "name": "python3"
  },
  "language_info": {
   "codemirror_mode": {
    "name": "ipython",
    "version": 3
   },
   "file_extension": ".py",
   "mimetype": "text/x-python",
   "name": "python",
   "nbconvert_exporter": "python",
   "pygments_lexer": "ipython3",
   "version": "3.10.4"
  }
 },
 "nbformat": 4,
 "nbformat_minor": 5
}
