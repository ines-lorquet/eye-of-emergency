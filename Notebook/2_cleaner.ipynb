{
 "cells": [
  {
   "cell_type": "code",
   "execution_count": 16,
   "id": "2a290af6",
   "metadata": {},
   "outputs": [],
   "source": [
    "import pandas as pd\n",
    "from text_mining import TextMining"
   ]
  },
  {
   "cell_type": "markdown",
   "id": "9a5e9de7",
   "metadata": {},
   "source": [
    "### Importer le CSV"
   ]
  },
  {
   "cell_type": "code",
   "execution_count": 17,
   "id": "27635f84",
   "metadata": {},
   "outputs": [],
   "source": [
    "df = pd.read_csv('../data/train_tweets.csv')"
   ]
  },
  {
   "cell_type": "markdown",
   "id": "c39130f5",
   "metadata": {},
   "source": [
    "### Traitement des valeurs nuls ou non pertinentes"
   ]
  },
  {
   "cell_type": "code",
   "execution_count": 18,
   "id": "02cab5bd",
   "metadata": {},
   "outputs": [],
   "source": [
    "df.drop_duplicates(inplace=True)\n"
   ]
  },
  {
   "cell_type": "code",
   "execution_count": 19,
   "id": "387d3516",
   "metadata": {},
   "outputs": [
    {
     "name": "stdout",
     "output_type": "stream",
     "text": [
      "(7613, 5)\n"
     ]
    }
   ],
   "source": [
    "print(df.shape)"
   ]
  },
  {
   "cell_type": "code",
   "execution_count": 20,
   "id": "078faccb",
   "metadata": {},
   "outputs": [
    {
     "name": "stdout",
     "output_type": "stream",
     "text": [
      "(5080, 5)\n",
      "<class 'pandas.core.frame.DataFrame'>\n",
      "Int64Index: 5080 entries, 31 to 7581\n",
      "Data columns (total 5 columns):\n",
      " #   Column    Non-Null Count  Dtype \n",
      "---  ------    --------------  ----- \n",
      " 0   id        5080 non-null   int64 \n",
      " 1   keyword   5080 non-null   object\n",
      " 2   location  5080 non-null   object\n",
      " 3   text      5080 non-null   object\n",
      " 4   target    5080 non-null   int64 \n",
      "dtypes: int64(2), object(3)\n",
      "memory usage: 238.1+ KB\n"
     ]
    }
   ],
   "source": [
    "df.dropna(inplace=True)\n",
    "print(df.shape) \n",
    "df.info()"
   ]
  },
  {
   "cell_type": "markdown",
   "id": "792b6963",
   "metadata": {},
   "source": [
    "### Gestion  des valeurs manquantes\n",
    "\n",
    "Au lieu de supprimer 33% des données avec `dropna()`, considérons cette approche :"
   ]
  },
  {
   "cell_type": "code",
   "execution_count": 21,
   "id": "74632885",
   "metadata": {},
   "outputs": [],
   "source": [
    "# # Alternative recommandée : imputation intelligente\n",
    "# df_alternative = df.copy()\n",
    "\n",
    "# # 1. Remplacer les valeurs manquantes par des chaînes vides ou des valeurs par défaut\n",
    "# df_alternative['location'] = df_alternative['location'].fillna(\"unknown_location\")\n",
    "# df_alternative['keyword'] = df_alternative['keyword'].fillna(\"no_keyword\")\n",
    "\n",
    "# print(f\"Données conservées : {df_alternative.shape[0]} lignes (vs {df.shape[0]} avec dropna)\")\n",
    "# print(f\"Pourcentage conservé : {df_alternative.shape[0]/7613*100:.1f}%\")\n"
   ]
  },
  {
   "cell_type": "code",
   "execution_count": 22,
   "id": "102c7c90",
   "metadata": {},
   "outputs": [
    {
     "name": "stdout",
     "output_type": "stream",
     "text": [
      "Données conservées de location : 5080 lignes (vs 5080 avec dropna)\n",
      "Pourcentage conservé : 66.7%\n",
      "Données conservées de keyword : 5080 lignes (vs 5080 avec dropna)\n",
      "Pourcentage conservé : 66.7%\n"
     ]
    }
   ],
   "source": [
    "# Alternative recommandée : imputation intelligente\n",
    "df_alternative = df.copy()\n",
    "\n",
    "# 1. Remplacer les valeurs manquantes par des chaînes vides ou des valeurs par défaut\n",
    "def replace_missing_values(series, default_value):\n",
    "    df_alternative[series] = df_alternative[series].fillna(default_value)\n",
    "\n",
    "    print(f\"Données conservées de {series} : {df_alternative.shape[0]} lignes (vs {df.shape[0]} avec dropna)\")\n",
    "    print(f\"Pourcentage conservé : {df_alternative.shape[0]/7613*100:.1f}%\")\n",
    "\n",
    "replace_missing_values('location', \"\")\n",
    "replace_missing_values('keyword', \"\")"
   ]
  },
  {
   "cell_type": "code",
   "execution_count": 23,
   "id": "5a6b2b6b",
   "metadata": {},
   "outputs": [
    {
     "data": {
      "text/html": [
       "<div>\n",
       "<style scoped>\n",
       "    .dataframe tbody tr th:only-of-type {\n",
       "        vertical-align: middle;\n",
       "    }\n",
       "\n",
       "    .dataframe tbody tr th {\n",
       "        vertical-align: top;\n",
       "    }\n",
       "\n",
       "    .dataframe thead th {\n",
       "        text-align: right;\n",
       "    }\n",
       "</style>\n",
       "<table border=\"1\" class=\"dataframe\">\n",
       "  <thead>\n",
       "    <tr style=\"text-align: right;\">\n",
       "      <th></th>\n",
       "      <th>id</th>\n",
       "      <th>keyword</th>\n",
       "      <th>location</th>\n",
       "      <th>text</th>\n",
       "      <th>target</th>\n",
       "    </tr>\n",
       "  </thead>\n",
       "  <tbody>\n",
       "    <tr>\n",
       "      <th>31</th>\n",
       "      <td>48</td>\n",
       "      <td>ablaze</td>\n",
       "      <td>Birmingham</td>\n",
       "      <td>@bbcmtd Wholesale Markets ablaze http://t.co/l...</td>\n",
       "      <td>1</td>\n",
       "    </tr>\n",
       "    <tr>\n",
       "      <th>32</th>\n",
       "      <td>49</td>\n",
       "      <td>ablaze</td>\n",
       "      <td>Est. September 2012 - Bristol</td>\n",
       "      <td>We always try to bring the heavy. #metal #RT h...</td>\n",
       "      <td>0</td>\n",
       "    </tr>\n",
       "    <tr>\n",
       "      <th>33</th>\n",
       "      <td>50</td>\n",
       "      <td>ablaze</td>\n",
       "      <td>AFRICA</td>\n",
       "      <td>#AFRICANBAZE: Breaking news:Nigeria flag set a...</td>\n",
       "      <td>1</td>\n",
       "    </tr>\n",
       "    <tr>\n",
       "      <th>34</th>\n",
       "      <td>52</td>\n",
       "      <td>ablaze</td>\n",
       "      <td>Philadelphia, PA</td>\n",
       "      <td>Crying out for more! Set me ablaze</td>\n",
       "      <td>0</td>\n",
       "    </tr>\n",
       "    <tr>\n",
       "      <th>35</th>\n",
       "      <td>53</td>\n",
       "      <td>ablaze</td>\n",
       "      <td>London, UK</td>\n",
       "      <td>On plus side LOOK AT THE SKY LAST NIGHT IT WAS...</td>\n",
       "      <td>0</td>\n",
       "    </tr>\n",
       "  </tbody>\n",
       "</table>\n",
       "</div>"
      ],
      "text/plain": [
       "    id keyword                       location  \\\n",
       "31  48  ablaze                     Birmingham   \n",
       "32  49  ablaze  Est. September 2012 - Bristol   \n",
       "33  50  ablaze                         AFRICA   \n",
       "34  52  ablaze               Philadelphia, PA   \n",
       "35  53  ablaze                     London, UK   \n",
       "\n",
       "                                                 text  target  \n",
       "31  @bbcmtd Wholesale Markets ablaze http://t.co/l...       1  \n",
       "32  We always try to bring the heavy. #metal #RT h...       0  \n",
       "33  #AFRICANBAZE: Breaking news:Nigeria flag set a...       1  \n",
       "34                 Crying out for more! Set me ablaze       0  \n",
       "35  On plus side LOOK AT THE SKY LAST NIGHT IT WAS...       0  "
      ]
     },
     "execution_count": 23,
     "metadata": {},
     "output_type": "execute_result"
    }
   ],
   "source": [
    "df.head()"
   ]
  },
  {
   "cell_type": "code",
   "execution_count": 24,
   "id": "7ea0176d",
   "metadata": {},
   "outputs": [
    {
     "data": {
      "text/plain": [
       "0    0.567717\n",
       "1    0.432283\n",
       "Name: target, dtype: float64"
      ]
     },
     "execution_count": 24,
     "metadata": {},
     "output_type": "execute_result"
    }
   ],
   "source": [
    "df['target'].value_counts(normalize=True)"
   ]
  },
  {
   "cell_type": "markdown",
   "id": "28d9f971",
   "metadata": {},
   "source": [
    "### Proportion target"
   ]
  },
  {
   "cell_type": "code",
   "execution_count": 25,
   "id": "0ff86436",
   "metadata": {},
   "outputs": [],
   "source": [
    "\n",
    "df_0 = df[df['target'] == 0]\n",
    "df_1 = df[df['target'] == 1]\n",
    "\n",
    "# 2. Échantillonner aléatoirement la classe 0 pour avoir autant d'exemples que la classe 1\n",
    "df_0_sampled = df_0.sample(n=len(df_1), random_state=42)\n",
    "\n",
    "df_balanced = pd.concat([df_0_sampled, df_1], axis=0).sample(frac=1, random_state=42)  # shuffle le tout\n"
   ]
  },
  {
   "cell_type": "code",
   "execution_count": 26,
   "id": "3735ce77",
   "metadata": {},
   "outputs": [
    {
     "data": {
      "text/plain": [
       "1    0.5\n",
       "0    0.5\n",
       "Name: target, dtype: float64"
      ]
     },
     "execution_count": 26,
     "metadata": {},
     "output_type": "execute_result"
    }
   ],
   "source": [
    "\n",
    "df_balanced['target'].value_counts(normalize=True)"
   ]
  },
  {
   "cell_type": "code",
   "execution_count": 27,
   "id": "99e66011",
   "metadata": {},
   "outputs": [
    {
     "data": {
      "text/plain": [
       "collision                33\n",
       "outbreak                 31\n",
       "sandstorm                31\n",
       "fatalities               30\n",
       "emergency%20plan         29\n",
       "                         ..\n",
       "razed                     9\n",
       "detonation                8\n",
       "epicentre                 7\n",
       "radiation%20emergency     6\n",
       "inundation                3\n",
       "Name: keyword, Length: 221, dtype: int64"
      ]
     },
     "execution_count": 27,
     "metadata": {},
     "output_type": "execute_result"
    }
   ],
   "source": [
    "df_balanced['keyword'].value_counts()\n"
   ]
  },
  {
   "cell_type": "markdown",
   "id": "44b1b7f6",
   "metadata": {},
   "source": [
    "### Nettoyage"
   ]
  },
  {
   "cell_type": "markdown",
   "id": "28b04036",
   "metadata": {},
   "source": [
    "- Conversion en minuscules\n",
    "- Suppression des URL\n",
    "- mentions et hashtags\n",
    "- Suppression de la ponctuation et caractères spéciaux\n",
    "- Tokenisation\n",
    "- Suppression des stopwords\n",
    "- Lemmatisation (ou stemming)\n",
    "- Vectorisation des textes"
   ]
  },
  {
   "cell_type": "code",
   "execution_count": 28,
   "id": "9522ef4f",
   "metadata": {},
   "outputs": [
    {
     "data": {
      "text/html": [
       "<div>\n",
       "<style scoped>\n",
       "    .dataframe tbody tr th:only-of-type {\n",
       "        vertical-align: middle;\n",
       "    }\n",
       "\n",
       "    .dataframe tbody tr th {\n",
       "        vertical-align: top;\n",
       "    }\n",
       "\n",
       "    .dataframe thead th {\n",
       "        text-align: right;\n",
       "    }\n",
       "</style>\n",
       "<table border=\"1\" class=\"dataframe\">\n",
       "  <thead>\n",
       "    <tr style=\"text-align: right;\">\n",
       "      <th></th>\n",
       "      <th>id</th>\n",
       "      <th>keyword</th>\n",
       "      <th>location</th>\n",
       "      <th>text</th>\n",
       "      <th>target</th>\n",
       "      <th>hashtags</th>\n",
       "      <th>mentions</th>\n",
       "      <th>urls</th>\n",
       "      <th>tokens</th>\n",
       "      <th>vector</th>\n",
       "    </tr>\n",
       "  </thead>\n",
       "  <tbody>\n",
       "    <tr>\n",
       "      <th>31</th>\n",
       "      <td>48</td>\n",
       "      <td>ablaze</td>\n",
       "      <td>birmingham</td>\n",
       "      <td>wholesale markets ablaze</td>\n",
       "      <td>1</td>\n",
       "      <td></td>\n",
       "      <td>bbcmtd</td>\n",
       "      <td>http t co lhyxeohy6c</td>\n",
       "      <td>[wholesale, market, ablaze]</td>\n",
       "      <td>[0.0, 0.0, 0.0, 0.0, 0.0, 0.0, 0.0, 0.0, 0.0, ...</td>\n",
       "    </tr>\n",
       "    <tr>\n",
       "      <th>32</th>\n",
       "      <td>49</td>\n",
       "      <td>ablaze</td>\n",
       "      <td>est  september 2012   bristol</td>\n",
       "      <td>we always try to bring the heavy</td>\n",
       "      <td>0</td>\n",
       "      <td>metal  rt</td>\n",
       "      <td></td>\n",
       "      <td>http t co yao1e0xngw</td>\n",
       "      <td>[always, try, bring, heavy, metal, rt]</td>\n",
       "      <td>[0.0, 0.0, 0.0, 0.0, 0.0, 0.0, 0.0, 0.0, 0.0, ...</td>\n",
       "    </tr>\n",
       "    <tr>\n",
       "      <th>33</th>\n",
       "      <td>50</td>\n",
       "      <td>ablaze</td>\n",
       "      <td>africa</td>\n",
       "      <td>breaking news nigeria flag set ablaze in aba</td>\n",
       "      <td>1</td>\n",
       "      <td>africanbaze</td>\n",
       "      <td></td>\n",
       "      <td>http t co 2nndbgwyei</td>\n",
       "      <td>[breaking, news, nigeria, flag, set, ablaze, a...</td>\n",
       "      <td>[0.0, 0.0, 0.0, 0.0, 0.0, 0.0, 0.0, 0.0, 0.0, ...</td>\n",
       "    </tr>\n",
       "    <tr>\n",
       "      <th>34</th>\n",
       "      <td>52</td>\n",
       "      <td>ablaze</td>\n",
       "      <td>philadelphia  pa</td>\n",
       "      <td>crying out for more  set me ablaze</td>\n",
       "      <td>0</td>\n",
       "      <td></td>\n",
       "      <td></td>\n",
       "      <td></td>\n",
       "      <td>[cry, set, ablaze]</td>\n",
       "      <td>[0.0, 0.0, 0.0, 0.0, 0.0, 0.0, 0.0, 0.0, 0.0, ...</td>\n",
       "    </tr>\n",
       "    <tr>\n",
       "      <th>35</th>\n",
       "      <td>53</td>\n",
       "      <td>ablaze</td>\n",
       "      <td>london  uk</td>\n",
       "      <td>on plus side look at the sky last night it was...</td>\n",
       "      <td>0</td>\n",
       "      <td></td>\n",
       "      <td></td>\n",
       "      <td>http t co qqsmshaj3n</td>\n",
       "      <td>[plus, side, look, sky, last, night, ablaze]</td>\n",
       "      <td>[0.0, 0.0, 0.0, 0.0, 0.0, 0.0, 0.0, 0.0, 0.0, ...</td>\n",
       "    </tr>\n",
       "    <tr>\n",
       "      <th>36</th>\n",
       "      <td>54</td>\n",
       "      <td>ablaze</td>\n",
       "      <td>pretoria</td>\n",
       "      <td>they ve built so much hype around new acquisit...</td>\n",
       "      <td>0</td>\n",
       "      <td>mufc</td>\n",
       "      <td>phdsquares</td>\n",
       "      <td></td>\n",
       "      <td>[built, much, hype, around, new, acquisition, ...</td>\n",
       "      <td>[0.0, 0.0, 0.0, 0.0, 0.0, 0.0, 0.0, 0.0, 0.0, ...</td>\n",
       "    </tr>\n",
       "    <tr>\n",
       "      <th>37</th>\n",
       "      <td>55</td>\n",
       "      <td>ablaze</td>\n",
       "      <td>world wide</td>\n",
       "      <td>inec office in abia set ablaze</td>\n",
       "      <td>1</td>\n",
       "      <td></td>\n",
       "      <td></td>\n",
       "      <td>http t co 3imaomknna</td>\n",
       "      <td>[inec, office, abia, set, ablaze]</td>\n",
       "      <td>[0.0, 0.0, 0.0, 0.0, 0.0, 0.0, 0.0, 0.0, 0.0, ...</td>\n",
       "    </tr>\n",
       "    <tr>\n",
       "      <th>39</th>\n",
       "      <td>57</td>\n",
       "      <td>ablaze</td>\n",
       "      <td>paranaque city</td>\n",
       "      <td>ablaze for you lord  d</td>\n",
       "      <td>0</td>\n",
       "      <td></td>\n",
       "      <td></td>\n",
       "      <td></td>\n",
       "      <td>[ablaze, lord]</td>\n",
       "      <td>[0.0, 0.0, 0.0, 0.0, 0.0, 0.0, 0.0, 0.0, 0.0, ...</td>\n",
       "    </tr>\n",
       "    <tr>\n",
       "      <th>40</th>\n",
       "      <td>59</td>\n",
       "      <td>ablaze</td>\n",
       "      <td>live on webcam</td>\n",
       "      <td>check these out</td>\n",
       "      <td>0</td>\n",
       "      <td>nsfw</td>\n",
       "      <td></td>\n",
       "      <td>http t co roi2nsmejj  http t co 3tj8zjin21  ht...</td>\n",
       "      <td>[check, nsfw]</td>\n",
       "      <td>[0.0, 0.0, 0.0, 0.0, 0.0, 0.0, 0.0, 0.0, 0.0, ...</td>\n",
       "    </tr>\n",
       "    <tr>\n",
       "      <th>42</th>\n",
       "      <td>62</td>\n",
       "      <td>ablaze</td>\n",
       "      <td>milky way</td>\n",
       "      <td>had an awesome time visiting the cfc head offi...</td>\n",
       "      <td>0</td>\n",
       "      <td></td>\n",
       "      <td></td>\n",
       "      <td></td>\n",
       "      <td>[awesome, time, visiting, cfc, head, office, a...</td>\n",
       "      <td>[0.0, 0.0, 0.0, 0.0, 0.0, 0.0, 0.0, 0.0, 0.0, ...</td>\n",
       "    </tr>\n",
       "  </tbody>\n",
       "</table>\n",
       "</div>"
      ],
      "text/plain": [
       "    id keyword                       location  \\\n",
       "31  48  ablaze                     birmingham   \n",
       "32  49  ablaze  est  september 2012   bristol   \n",
       "33  50  ablaze                         africa   \n",
       "34  52  ablaze               philadelphia  pa   \n",
       "35  53  ablaze                     london  uk   \n",
       "36  54  ablaze                       pretoria   \n",
       "37  55  ablaze                    world wide    \n",
       "39  57  ablaze                 paranaque city   \n",
       "40  59  ablaze                 live on webcam   \n",
       "42  62  ablaze                      milky way   \n",
       "\n",
       "                                                 text target     hashtags  \\\n",
       "31                           wholesale markets ablaze      1                \n",
       "32                  we always try to bring the heavy       0    metal  rt   \n",
       "33      breaking news nigeria flag set ablaze in aba       1  africanbaze   \n",
       "34                 crying out for more  set me ablaze      0                \n",
       "35  on plus side look at the sky last night it was...      0                \n",
       "36  they ve built so much hype around new acquisit...      0         mufc   \n",
       "37                   inec office in abia set ablaze        1                \n",
       "39                             ablaze for you lord  d      0                \n",
       "40                                   check these out       0         nsfw   \n",
       "42  had an awesome time visiting the cfc head offi...      0                \n",
       "\n",
       "      mentions                                               urls  \\\n",
       "31      bbcmtd                               http t co lhyxeohy6c   \n",
       "32                                           http t co yao1e0xngw   \n",
       "33                                           http t co 2nndbgwyei   \n",
       "34                                                                  \n",
       "35                                           http t co qqsmshaj3n   \n",
       "36  phdsquares                                                      \n",
       "37                                           http t co 3imaomknna   \n",
       "39                                                                  \n",
       "40              http t co roi2nsmejj  http t co 3tj8zjin21  ht...   \n",
       "42                                                                  \n",
       "\n",
       "                                               tokens  \\\n",
       "31                        [wholesale, market, ablaze]   \n",
       "32             [always, try, bring, heavy, metal, rt]   \n",
       "33  [breaking, news, nigeria, flag, set, ablaze, a...   \n",
       "34                                 [cry, set, ablaze]   \n",
       "35       [plus, side, look, sky, last, night, ablaze]   \n",
       "36  [built, much, hype, around, new, acquisition, ...   \n",
       "37                  [inec, office, abia, set, ablaze]   \n",
       "39                                     [ablaze, lord]   \n",
       "40                                      [check, nsfw]   \n",
       "42  [awesome, time, visiting, cfc, head, office, a...   \n",
       "\n",
       "                                               vector  \n",
       "31  [0.0, 0.0, 0.0, 0.0, 0.0, 0.0, 0.0, 0.0, 0.0, ...  \n",
       "32  [0.0, 0.0, 0.0, 0.0, 0.0, 0.0, 0.0, 0.0, 0.0, ...  \n",
       "33  [0.0, 0.0, 0.0, 0.0, 0.0, 0.0, 0.0, 0.0, 0.0, ...  \n",
       "34  [0.0, 0.0, 0.0, 0.0, 0.0, 0.0, 0.0, 0.0, 0.0, ...  \n",
       "35  [0.0, 0.0, 0.0, 0.0, 0.0, 0.0, 0.0, 0.0, 0.0, ...  \n",
       "36  [0.0, 0.0, 0.0, 0.0, 0.0, 0.0, 0.0, 0.0, 0.0, ...  \n",
       "37  [0.0, 0.0, 0.0, 0.0, 0.0, 0.0, 0.0, 0.0, 0.0, ...  \n",
       "39  [0.0, 0.0, 0.0, 0.0, 0.0, 0.0, 0.0, 0.0, 0.0, ...  \n",
       "40  [0.0, 0.0, 0.0, 0.0, 0.0, 0.0, 0.0, 0.0, 0.0, ...  \n",
       "42  [0.0, 0.0, 0.0, 0.0, 0.0, 0.0, 0.0, 0.0, 0.0, ...  "
      ]
     },
     "execution_count": 28,
     "metadata": {},
     "output_type": "execute_result"
    }
   ],
   "source": [
    "data_clean = df.copy()\n",
    "tm = TextMining(data_clean)\n",
    "data_clean = (\n",
    "    tm.lowercase()\n",
    "        .extract_target_char(\"#\", \"hashtags\")\n",
    "        .extract_target_char(\"@\", \"mentions\")\n",
    "        .extract_url()\n",
    "        .clean_regex()\n",
    "        .tokenize()\n",
    "        .remove_stopwords()\n",
    "        .apply_lemmatizer() # .apply_lemmatizer() ou .apply_stemmer()\n",
    "        .vectorize(mode=\"tfidf\") # ou mode=\"bow\" ou mode=\"tfidf\"\n",
    "        .get_df()   \n",
    ")\n",
    "tm.export_csv(\"lemmatizer_tfidf.csv\")\n",
    "data_clean.head(10)\n"
   ]
  },
  {
   "cell_type": "code",
   "execution_count": 29,
   "id": "d3a68dbf",
   "metadata": {},
   "outputs": [
    {
     "data": {
      "text/html": [
       "<div>\n",
       "<style scoped>\n",
       "    .dataframe tbody tr th:only-of-type {\n",
       "        vertical-align: middle;\n",
       "    }\n",
       "\n",
       "    .dataframe tbody tr th {\n",
       "        vertical-align: top;\n",
       "    }\n",
       "\n",
       "    .dataframe thead th {\n",
       "        text-align: right;\n",
       "    }\n",
       "</style>\n",
       "<table border=\"1\" class=\"dataframe\">\n",
       "  <thead>\n",
       "    <tr style=\"text-align: right;\">\n",
       "      <th></th>\n",
       "      <th>id</th>\n",
       "      <th>keyword</th>\n",
       "      <th>location</th>\n",
       "      <th>text</th>\n",
       "      <th>target</th>\n",
       "    </tr>\n",
       "  </thead>\n",
       "  <tbody>\n",
       "    <tr>\n",
       "      <th>31</th>\n",
       "      <td>48</td>\n",
       "      <td>ablaze</td>\n",
       "      <td>Birmingham</td>\n",
       "      <td>@bbcmtd Wholesale Markets ablaze http://t.co/l...</td>\n",
       "      <td>1</td>\n",
       "    </tr>\n",
       "    <tr>\n",
       "      <th>32</th>\n",
       "      <td>49</td>\n",
       "      <td>ablaze</td>\n",
       "      <td>Est. September 2012 - Bristol</td>\n",
       "      <td>We always try to bring the heavy. #metal #RT h...</td>\n",
       "      <td>0</td>\n",
       "    </tr>\n",
       "    <tr>\n",
       "      <th>33</th>\n",
       "      <td>50</td>\n",
       "      <td>ablaze</td>\n",
       "      <td>AFRICA</td>\n",
       "      <td>#AFRICANBAZE: Breaking news:Nigeria flag set a...</td>\n",
       "      <td>1</td>\n",
       "    </tr>\n",
       "    <tr>\n",
       "      <th>34</th>\n",
       "      <td>52</td>\n",
       "      <td>ablaze</td>\n",
       "      <td>Philadelphia, PA</td>\n",
       "      <td>Crying out for more! Set me ablaze</td>\n",
       "      <td>0</td>\n",
       "    </tr>\n",
       "    <tr>\n",
       "      <th>35</th>\n",
       "      <td>53</td>\n",
       "      <td>ablaze</td>\n",
       "      <td>London, UK</td>\n",
       "      <td>On plus side LOOK AT THE SKY LAST NIGHT IT WAS...</td>\n",
       "      <td>0</td>\n",
       "    </tr>\n",
       "  </tbody>\n",
       "</table>\n",
       "</div>"
      ],
      "text/plain": [
       "    id keyword                       location  \\\n",
       "31  48  ablaze                     Birmingham   \n",
       "32  49  ablaze  Est. September 2012 - Bristol   \n",
       "33  50  ablaze                         AFRICA   \n",
       "34  52  ablaze               Philadelphia, PA   \n",
       "35  53  ablaze                     London, UK   \n",
       "\n",
       "                                                 text  target  \n",
       "31  @bbcmtd Wholesale Markets ablaze http://t.co/l...       1  \n",
       "32  We always try to bring the heavy. #metal #RT h...       0  \n",
       "33  #AFRICANBAZE: Breaking news:Nigeria flag set a...       1  \n",
       "34                 Crying out for more! Set me ablaze       0  \n",
       "35  On plus side LOOK AT THE SKY LAST NIGHT IT WAS...       0  "
      ]
     },
     "execution_count": 29,
     "metadata": {},
     "output_type": "execute_result"
    }
   ],
   "source": [
    "df.head()"
   ]
  },
  {
   "cell_type": "markdown",
   "id": "1d121c46",
   "metadata": {},
   "source": [
    "### Validation du nettoyage\n",
    "\n",
    "Toujours vérifier l'impact du preprocessing :"
   ]
  },
  {
   "cell_type": "code",
   "execution_count": 30,
   "id": "a33d9d46",
   "metadata": {},
   "outputs": [
    {
     "name": "stdout",
     "output_type": "stream",
     "text": [
      "🔍 Validation du nettoyage\n",
      "==================================================\n",
      "Distribution des classes après équilibrage :\n",
      "0    0.567717\n",
      "1    0.432283\n",
      "Name: target, dtype: float64\n",
      "\n",
      "Longueur moyenne avant nettoyage : 102.4 caractères\n",
      "Longueur moyenne après nettoyage : 78.1 caractères\n",
      "\n",
      "📝 Exemples de nettoyage :\n",
      "\n",
      "Original: @bbcmtd Wholesale Markets ablaze http://t.co/lHYXEOHY6C\n",
      "Nettoyé: wholesale markets ablaze\n",
      "------------------------------\n",
      "\n",
      "Original: We always try to bring the heavy. #metal #RT http://t.co/YAo1e0xngw\n",
      "Nettoyé: we always try to bring the heavy \n",
      "------------------------------\n",
      "\n",
      "Original: #AFRICANBAZE: Breaking news:Nigeria flag set ablaze in Aba. http://t.co/2nndBGwyEi\n",
      "Nettoyé:   breaking news nigeria flag set ablaze in aba \n",
      "------------------------------\n",
      "\n",
      " Dataset final :\n",
      "- Nombre de lignes : 5080\n",
      "- Équilibrage : {0: 2884, 1: 2196}\n"
     ]
    }
   ],
   "source": [
    "# Validation des résultats de nettoyage\n",
    "print(\"🔍 Validation du nettoyage\")\n",
    "print(\"=\" * 50)\n",
    "\n",
    "# 1. Vérifier l'équilibrage des classes\n",
    "print(\"Distribution des classes après équilibrage :\")\n",
    "print(df['target'].value_counts(normalize=True))\n",
    "print()\n",
    "\n",
    "# 2. Comparer longueurs avant/après nettoyage\n",
    "print(f\"Longueur moyenne avant nettoyage : {df['text'].str.len().mean():.1f} caractères\")\n",
    "print(f\"Longueur moyenne après nettoyage : {data_clean['text'].str.len().mean():.1f} caractères\")\n",
    "print()\n",
    "\n",
    "# 3. Exemples de transformation\n",
    "print(\"📝 Exemples de nettoyage :\")\n",
    "for i in range(3):\n",
    "    original = df['text'].iloc[i]\n",
    "    cleaned = data_clean['text'].iloc[i]\n",
    "    print(f\"\\nOriginal: {original}\")\n",
    "    print(f\"Nettoyé: {cleaned}\")\n",
    "    print(\"-\" * 30)\n",
    "\n",
    "# 4. Statistiques finales\n",
    "print(f\"\\n Dataset final :\")\n",
    "print(f\"- Nombre de lignes : {len(df)}\")\n",
    "print(f\"- Équilibrage : {df['target'].value_counts().to_dict()}\")"
   ]
  }
 ],
 "metadata": {
  "kernelspec": {
   "display_name": "eye-of-emergency (3.10.4)",
   "language": "python",
   "name": "python3"
  },
  "language_info": {
   "codemirror_mode": {
    "name": "ipython",
    "version": 3
   },
   "file_extension": ".py",
   "mimetype": "text/x-python",
   "name": "python",
   "nbconvert_exporter": "python",
   "pygments_lexer": "ipython3",
   "version": "3.10.4"
  }
 },
 "nbformat": 4,
 "nbformat_minor": 5
}
