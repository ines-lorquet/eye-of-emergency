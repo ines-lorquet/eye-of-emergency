{
 "cells": [
  {
   "cell_type": "code",
   "execution_count": 63,
   "id": "2a290af6",
   "metadata": {},
   "outputs": [],
   "source": [
    "import pandas as pd\n",
    "import numpy as np  \n",
    "import seaborn as sns\n",
    "import matplotlib.pyplot as plt"
   ]
  },
  {
   "cell_type": "code",
   "execution_count": 64,
   "id": "efbe2b84",
   "metadata": {},
   "outputs": [],
   "source": [
    "df = pd.read_csv(\"data/train_tweets.csv\")"
   ]
  },
  {
   "cell_type": "markdown",
   "id": "41341db6",
   "metadata": {},
   "source": [
    "## Analyse des valeurs "
   ]
  },
  {
   "cell_type": "code",
   "execution_count": 65,
   "id": "e39e26ab",
   "metadata": {},
   "outputs": [
    {
     "data": {
      "text/html": [
       "<div>\n",
       "<style scoped>\n",
       "    .dataframe tbody tr th:only-of-type {\n",
       "        vertical-align: middle;\n",
       "    }\n",
       "\n",
       "    .dataframe tbody tr th {\n",
       "        vertical-align: top;\n",
       "    }\n",
       "\n",
       "    .dataframe thead th {\n",
       "        text-align: right;\n",
       "    }\n",
       "</style>\n",
       "<table border=\"1\" class=\"dataframe\">\n",
       "  <thead>\n",
       "    <tr style=\"text-align: right;\">\n",
       "      <th></th>\n",
       "      <th>id</th>\n",
       "      <th>keyword</th>\n",
       "      <th>location</th>\n",
       "      <th>text</th>\n",
       "      <th>target</th>\n",
       "    </tr>\n",
       "  </thead>\n",
       "  <tbody>\n",
       "    <tr>\n",
       "      <th>0</th>\n",
       "      <td>1</td>\n",
       "      <td>NaN</td>\n",
       "      <td>NaN</td>\n",
       "      <td>Our Deeds are the Reason of this #earthquake M...</td>\n",
       "      <td>1</td>\n",
       "    </tr>\n",
       "    <tr>\n",
       "      <th>1</th>\n",
       "      <td>4</td>\n",
       "      <td>NaN</td>\n",
       "      <td>NaN</td>\n",
       "      <td>Forest fire near La Ronge Sask. Canada</td>\n",
       "      <td>1</td>\n",
       "    </tr>\n",
       "    <tr>\n",
       "      <th>2</th>\n",
       "      <td>5</td>\n",
       "      <td>NaN</td>\n",
       "      <td>NaN</td>\n",
       "      <td>All residents asked to 'shelter in place' are ...</td>\n",
       "      <td>1</td>\n",
       "    </tr>\n",
       "    <tr>\n",
       "      <th>3</th>\n",
       "      <td>6</td>\n",
       "      <td>NaN</td>\n",
       "      <td>NaN</td>\n",
       "      <td>13,000 people receive #wildfires evacuation or...</td>\n",
       "      <td>1</td>\n",
       "    </tr>\n",
       "    <tr>\n",
       "      <th>4</th>\n",
       "      <td>7</td>\n",
       "      <td>NaN</td>\n",
       "      <td>NaN</td>\n",
       "      <td>Just got sent this photo from Ruby #Alaska as ...</td>\n",
       "      <td>1</td>\n",
       "    </tr>\n",
       "  </tbody>\n",
       "</table>\n",
       "</div>"
      ],
      "text/plain": [
       "   id keyword location                                               text  \\\n",
       "0   1     NaN      NaN  Our Deeds are the Reason of this #earthquake M...   \n",
       "1   4     NaN      NaN             Forest fire near La Ronge Sask. Canada   \n",
       "2   5     NaN      NaN  All residents asked to 'shelter in place' are ...   \n",
       "3   6     NaN      NaN  13,000 people receive #wildfires evacuation or...   \n",
       "4   7     NaN      NaN  Just got sent this photo from Ruby #Alaska as ...   \n",
       "\n",
       "   target  \n",
       "0       1  \n",
       "1       1  \n",
       "2       1  \n",
       "3       1  \n",
       "4       1  "
      ]
     },
     "execution_count": 65,
     "metadata": {},
     "output_type": "execute_result"
    }
   ],
   "source": [
    "df.head()"
   ]
  },
  {
   "cell_type": "code",
   "execution_count": 66,
   "id": "7ab6806a",
   "metadata": {},
   "outputs": [
    {
     "name": "stdout",
     "output_type": "stream",
     "text": [
      "<class 'pandas.core.frame.DataFrame'>\n",
      "RangeIndex: 7613 entries, 0 to 7612\n",
      "Data columns (total 5 columns):\n",
      " #   Column    Non-Null Count  Dtype \n",
      "---  ------    --------------  ----- \n",
      " 0   id        7613 non-null   int64 \n",
      " 1   keyword   7552 non-null   object\n",
      " 2   location  5080 non-null   object\n",
      " 3   text      7613 non-null   object\n",
      " 4   target    7613 non-null   int64 \n",
      "dtypes: int64(2), object(3)\n",
      "memory usage: 297.5+ KB\n"
     ]
    }
   ],
   "source": [
    "df.info()"
   ]
  },
  {
   "cell_type": "code",
   "execution_count": 67,
   "id": "0573a90a",
   "metadata": {},
   "outputs": [
    {
     "name": "stdout",
     "output_type": "stream",
     "text": [
      "(7613, 5)\n"
     ]
    }
   ],
   "source": [
    "print(df.shape)"
   ]
  },
  {
   "cell_type": "markdown",
   "id": "c39130f5",
   "metadata": {},
   "source": [
    "# Traitement des valeurs nuls ou non pertinentes"
   ]
  },
  {
   "cell_type": "code",
   "execution_count": 68,
   "id": "02cab5bd",
   "metadata": {},
   "outputs": [],
   "source": [
    "df.drop(columns=['id','location'], inplace=True)\n",
    "df.drop_duplicates(inplace=True)\n"
   ]
  },
  {
   "cell_type": "code",
   "execution_count": 69,
   "id": "387d3516",
   "metadata": {},
   "outputs": [
    {
     "name": "stdout",
     "output_type": "stream",
     "text": [
      "(7541, 3)\n"
     ]
    }
   ],
   "source": [
    "print(df.shape)"
   ]
  },
  {
   "cell_type": "code",
   "execution_count": 70,
   "id": "078faccb",
   "metadata": {},
   "outputs": [
    {
     "name": "stdout",
     "output_type": "stream",
     "text": [
      "(7480, 3)\n",
      "<class 'pandas.core.frame.DataFrame'>\n",
      "Index: 7480 entries, 31 to 7582\n",
      "Data columns (total 3 columns):\n",
      " #   Column   Non-Null Count  Dtype \n",
      "---  ------   --------------  ----- \n",
      " 0   keyword  7480 non-null   object\n",
      " 1   text     7480 non-null   object\n",
      " 2   target   7480 non-null   int64 \n",
      "dtypes: int64(1), object(2)\n",
      "memory usage: 233.8+ KB\n"
     ]
    }
   ],
   "source": [
    "df.dropna(inplace=True)\n",
    "print(df.shape) \n",
    "df.info()"
   ]
  },
  {
   "cell_type": "code",
   "execution_count": 71,
   "id": "5a6b2b6b",
   "metadata": {},
   "outputs": [
    {
     "data": {
      "text/html": [
       "<div>\n",
       "<style scoped>\n",
       "    .dataframe tbody tr th:only-of-type {\n",
       "        vertical-align: middle;\n",
       "    }\n",
       "\n",
       "    .dataframe tbody tr th {\n",
       "        vertical-align: top;\n",
       "    }\n",
       "\n",
       "    .dataframe thead th {\n",
       "        text-align: right;\n",
       "    }\n",
       "</style>\n",
       "<table border=\"1\" class=\"dataframe\">\n",
       "  <thead>\n",
       "    <tr style=\"text-align: right;\">\n",
       "      <th></th>\n",
       "      <th>keyword</th>\n",
       "      <th>text</th>\n",
       "      <th>target</th>\n",
       "    </tr>\n",
       "  </thead>\n",
       "  <tbody>\n",
       "    <tr>\n",
       "      <th>31</th>\n",
       "      <td>ablaze</td>\n",
       "      <td>@bbcmtd Wholesale Markets ablaze http://t.co/l...</td>\n",
       "      <td>1</td>\n",
       "    </tr>\n",
       "    <tr>\n",
       "      <th>32</th>\n",
       "      <td>ablaze</td>\n",
       "      <td>We always try to bring the heavy. #metal #RT h...</td>\n",
       "      <td>0</td>\n",
       "    </tr>\n",
       "    <tr>\n",
       "      <th>33</th>\n",
       "      <td>ablaze</td>\n",
       "      <td>#AFRICANBAZE: Breaking news:Nigeria flag set a...</td>\n",
       "      <td>1</td>\n",
       "    </tr>\n",
       "    <tr>\n",
       "      <th>34</th>\n",
       "      <td>ablaze</td>\n",
       "      <td>Crying out for more! Set me ablaze</td>\n",
       "      <td>0</td>\n",
       "    </tr>\n",
       "    <tr>\n",
       "      <th>35</th>\n",
       "      <td>ablaze</td>\n",
       "      <td>On plus side LOOK AT THE SKY LAST NIGHT IT WAS...</td>\n",
       "      <td>0</td>\n",
       "    </tr>\n",
       "  </tbody>\n",
       "</table>\n",
       "</div>"
      ],
      "text/plain": [
       "   keyword                                               text  target\n",
       "31  ablaze  @bbcmtd Wholesale Markets ablaze http://t.co/l...       1\n",
       "32  ablaze  We always try to bring the heavy. #metal #RT h...       0\n",
       "33  ablaze  #AFRICANBAZE: Breaking news:Nigeria flag set a...       1\n",
       "34  ablaze                 Crying out for more! Set me ablaze       0\n",
       "35  ablaze  On plus side LOOK AT THE SKY LAST NIGHT IT WAS...       0"
      ]
     },
     "execution_count": 71,
     "metadata": {},
     "output_type": "execute_result"
    }
   ],
   "source": [
    "df.head()"
   ]
  },
  {
   "cell_type": "code",
   "execution_count": 72,
   "id": "7ea0176d",
   "metadata": {},
   "outputs": [
    {
     "data": {
      "text/plain": [
       "target\n",
       "0    0.574599\n",
       "1    0.425401\n",
       "Name: proportion, dtype: float64"
      ]
     },
     "execution_count": 72,
     "metadata": {},
     "output_type": "execute_result"
    }
   ],
   "source": [
    "df['target'].value_counts(normalize=True)"
   ]
  },
  {
   "cell_type": "markdown",
   "id": "28d9f971",
   "metadata": {},
   "source": [
    "# Proportion target"
   ]
  },
  {
   "cell_type": "code",
   "execution_count": 73,
   "id": "0ff86436",
   "metadata": {},
   "outputs": [],
   "source": [
    "\n",
    "df_0 = df[df['target'] == 0]\n",
    "df_1 = df[df['target'] == 1]\n",
    "\n",
    "# 2. Échantillonner aléatoirement la classe 0 pour avoir autant d'exemples que la classe 1\n",
    "df_0_sampled = df_0.sample(n=len(df_1), random_state=42)\n",
    "\n",
    "df_balanced = pd.concat([df_0_sampled, df_1], axis=0).sample(frac=1, random_state=42)  # shuffle le tout\n"
   ]
  },
  {
   "cell_type": "code",
   "execution_count": 74,
   "id": "3735ce77",
   "metadata": {},
   "outputs": [
    {
     "data": {
      "text/plain": [
       "target\n",
       "1    0.5\n",
       "0    0.5\n",
       "Name: proportion, dtype: float64"
      ]
     },
     "execution_count": 74,
     "metadata": {},
     "output_type": "execute_result"
    }
   ],
   "source": [
    "\n",
    "df_balanced['target'].value_counts(normalize=True)"
   ]
  },
  {
   "cell_type": "code",
   "execution_count": 75,
   "id": "99e66011",
   "metadata": {},
   "outputs": [
    {
     "data": {
      "text/plain": [
       "keyword\n",
       "fatalities               42\n",
       "outbreak                 39\n",
       "oil%20spill              38\n",
       "typhoon                  38\n",
       "deaths                   37\n",
       "                         ..\n",
       "rescue                   18\n",
       "epicentre                10\n",
       "radiation%20emergency     9\n",
       "inundation                9\n",
       "threat                    9\n",
       "Name: count, Length: 221, dtype: int64"
      ]
     },
     "execution_count": 75,
     "metadata": {},
     "output_type": "execute_result"
    }
   ],
   "source": [
    "df_balanced['keyword'].value_counts()\n"
   ]
  },
  {
   "cell_type": "markdown",
   "id": "0a0c04bc",
   "metadata": {},
   "source": [
    "# Ajout features"
   ]
  },
  {
   "cell_type": "code",
   "execution_count": 76,
   "id": "7b82b7cb",
   "metadata": {},
   "outputs": [
    {
     "data": {
      "text/html": [
       "<div>\n",
       "<style scoped>\n",
       "    .dataframe tbody tr th:only-of-type {\n",
       "        vertical-align: middle;\n",
       "    }\n",
       "\n",
       "    .dataframe tbody tr th {\n",
       "        vertical-align: top;\n",
       "    }\n",
       "\n",
       "    .dataframe thead th {\n",
       "        text-align: right;\n",
       "    }\n",
       "</style>\n",
       "<table border=\"1\" class=\"dataframe\">\n",
       "  <thead>\n",
       "    <tr style=\"text-align: right;\">\n",
       "      <th></th>\n",
       "      <th>char_count</th>\n",
       "      <th>word_count</th>\n",
       "    </tr>\n",
       "  </thead>\n",
       "  <tbody>\n",
       "    <tr>\n",
       "      <th>count</th>\n",
       "      <td>6364.000000</td>\n",
       "      <td>6364.000000</td>\n",
       "    </tr>\n",
       "    <tr>\n",
       "      <th>mean</th>\n",
       "      <td>102.427876</td>\n",
       "      <td>14.979887</td>\n",
       "    </tr>\n",
       "    <tr>\n",
       "      <th>std</th>\n",
       "      <td>32.964656</td>\n",
       "      <td>5.615746</td>\n",
       "    </tr>\n",
       "    <tr>\n",
       "      <th>min</th>\n",
       "      <td>7.000000</td>\n",
       "      <td>1.000000</td>\n",
       "    </tr>\n",
       "    <tr>\n",
       "      <th>25%</th>\n",
       "      <td>80.000000</td>\n",
       "      <td>11.000000</td>\n",
       "    </tr>\n",
       "    <tr>\n",
       "      <th>50%</th>\n",
       "      <td>108.000000</td>\n",
       "      <td>15.000000</td>\n",
       "    </tr>\n",
       "    <tr>\n",
       "      <th>75%</th>\n",
       "      <td>134.000000</td>\n",
       "      <td>19.000000</td>\n",
       "    </tr>\n",
       "    <tr>\n",
       "      <th>max</th>\n",
       "      <td>157.000000</td>\n",
       "      <td>31.000000</td>\n",
       "    </tr>\n",
       "  </tbody>\n",
       "</table>\n",
       "</div>"
      ],
      "text/plain": [
       "        char_count   word_count\n",
       "count  6364.000000  6364.000000\n",
       "mean    102.427876    14.979887\n",
       "std      32.964656     5.615746\n",
       "min       7.000000     1.000000\n",
       "25%      80.000000    11.000000\n",
       "50%     108.000000    15.000000\n",
       "75%     134.000000    19.000000\n",
       "max     157.000000    31.000000"
      ]
     },
     "execution_count": 76,
     "metadata": {},
     "output_type": "execute_result"
    }
   ],
   "source": [
    "# Nombre de caractères par tweet\n",
    "df_balanced['char_count'] = df_balanced['text'].apply(len)\n",
    "\n",
    "# Nombre de mots par tweet\n",
    "df_balanced['word_count'] = df_balanced['text'].apply(lambda x: len(x.split()))\n",
    "\n",
    "# Statistiques descriptives\n",
    "df_balanced[['char_count', 'word_count']].describe()\n"
   ]
  },
  {
   "cell_type": "code",
   "execution_count": 77,
   "id": "48a12e90",
   "metadata": {},
   "outputs": [
    {
     "data": {
      "image/png": "[encoded data removed]",
      "text/plain": [
       "<Figure size 640x480 with 1 Axes>"
      ]
     },
     "metadata": {},
     "output_type": "display_data"
    },
    {
     "data": {
      "image/png": "[encoded data removed]",
      "text/plain": [
       "<Figure size 640x480 with 1 Axes>"
      ]
     },
     "metadata": {},
     "output_type": "display_data"
    }
   ],
   "source": [
    "\n",
    "\n",
    "sns.histplot(data=df_balanced, x='char_count', hue='target', kde=True)\n",
    "plt.title(\"Distribution du nombre de caractères par tweet\")\n",
    "plt.show()\n",
    "\n",
    "sns.histplot(data=df_balanced, x='word_count', hue='target', kde=True)\n",
    "plt.title(\"Distribution du nombre de mots par tweet\")\n",
    "plt.show()\n"
   ]
  },
  {
   "cell_type": "markdown",
   "id": "4dd1bee5",
   "metadata": {},
   "source": [
    "1. Distribution du nombre de caractères par tweet\n",
    "\n",
    "\n",
    "La majorité des tweets sont entre 80 et 140 caractères.\n",
    "Les tweets de catastrophe sont en moyenne plus longs.\n",
    "Il y a un pic brutal à ~140 caractères pour les deux classes.\n",
    "Les tweets catastrophes sont surement plus détaillés, plus descriptifs, ce qui donne une longueur moyenne plus élevée.\n",
    "\n",
    "\n",
    "2. Distribution du nombre de mots par tweet\n",
    "\n",
    "Les tweets catastrophes contiennent un peu plus de mots que les autres.\n",
    "Le pic est autour de 14-18 mots pour les catastrophes, un peu plus bas pour les autres.\n",
    "\n",
    "\n",
    "3. Interprétation globale : \n",
    "\n",
    "L’EDA montre que les tweets liés à des catastrophes réelles sont généralement un peu plus longs que les tweets non-catastrophes, à la fois en nombre de caractères et de mots. Cela reflète sans doute leur nature plus factuelle, urgente ou descriptive (ex : rapports d’incidents, alertes, témoignages). Cependant, les distributions restent proches : la longueur seule ne suffit pas à distinguer les classes, mais elle peut constituer un indice utile combiné à d'autres features (mots, n-grammes, keyword, etc.)."
   ]
  },
  {
   "cell_type": "markdown",
   "id": "0fcb9ec7",
   "metadata": {},
   "source": [
    "# Nettoyage léger pour analyse de texte"
   ]
  },
  {
   "cell_type": "markdown",
   "id": "a9a1ac6a",
   "metadata": {},
   "source": [
    "Passage en miniscule"
   ]
  },
  {
   "cell_type": "code",
   "execution_count": 78,
   "id": "c5814407",
   "metadata": {},
   "outputs": [],
   "source": [
    "df_balanced['text'] = df_balanced['text'].str.lower()\n",
    "df_balanced['keyword'] = df_balanced['keyword'].str.lower()"
   ]
  },
  {
   "cell_type": "code",
   "execution_count": 79,
   "id": "ca605755",
   "metadata": {},
   "outputs": [
    {
     "data": {
      "text/html": [
       "<div>\n",
       "<style scoped>\n",
       "    .dataframe tbody tr th:only-of-type {\n",
       "        vertical-align: middle;\n",
       "    }\n",
       "\n",
       "    .dataframe tbody tr th {\n",
       "        vertical-align: top;\n",
       "    }\n",
       "\n",
       "    .dataframe thead th {\n",
       "        text-align: right;\n",
       "    }\n",
       "</style>\n",
       "<table border=\"1\" class=\"dataframe\">\n",
       "  <thead>\n",
       "    <tr style=\"text-align: right;\">\n",
       "      <th></th>\n",
       "      <th>keyword</th>\n",
       "      <th>text</th>\n",
       "      <th>target</th>\n",
       "      <th>char_count</th>\n",
       "      <th>word_count</th>\n",
       "    </tr>\n",
       "  </thead>\n",
       "  <tbody>\n",
       "    <tr>\n",
       "      <th>7335</th>\n",
       "      <td>wildfire</td>\n",
       "      <td>california wildfire destroys more homes but cr...</td>\n",
       "      <td>1</td>\n",
       "      <td>120</td>\n",
       "      <td>13</td>\n",
       "    </tr>\n",
       "    <tr>\n",
       "      <th>1271</th>\n",
       "      <td>burned</td>\n",
       "      <td>always look for the silver lining!  \\n\\nmy bar...</td>\n",
       "      <td>0</td>\n",
       "      <td>132</td>\n",
       "      <td>22</td>\n",
       "    </tr>\n",
       "    <tr>\n",
       "      <th>7248</th>\n",
       "      <td>weapons</td>\n",
       "      <td>slightly doesn't help that he has suh and wake...</td>\n",
       "      <td>0</td>\n",
       "      <td>138</td>\n",
       "      <td>23</td>\n",
       "    </tr>\n",
       "    <tr>\n",
       "      <th>4105</th>\n",
       "      <td>hail</td>\n",
       "      <td>unr issues severe thunderstorm warning [wind: ...</td>\n",
       "      <td>1</td>\n",
       "      <td>137</td>\n",
       "      <td>22</td>\n",
       "    </tr>\n",
       "    <tr>\n",
       "      <th>5346</th>\n",
       "      <td>pandemonium</td>\n",
       "      <td>exquisite asian in sto... http://t.co/y9w0v6te...</td>\n",
       "      <td>0</td>\n",
       "      <td>88</td>\n",
       "      <td>11</td>\n",
       "    </tr>\n",
       "  </tbody>\n",
       "</table>\n",
       "</div>"
      ],
      "text/plain": [
       "          keyword                                               text  target  \\\n",
       "7335     wildfire  california wildfire destroys more homes but cr...       1   \n",
       "1271       burned  always look for the silver lining!  \\n\\nmy bar...       0   \n",
       "7248      weapons  slightly doesn't help that he has suh and wake...       0   \n",
       "4105         hail  unr issues severe thunderstorm warning [wind: ...       1   \n",
       "5346  pandemonium  exquisite asian in sto... http://t.co/y9w0v6te...       0   \n",
       "\n",
       "      char_count  word_count  \n",
       "7335         120          13  \n",
       "1271         132          22  \n",
       "7248         138          23  \n",
       "4105         137          22  \n",
       "5346          88          11  "
      ]
     },
     "execution_count": 79,
     "metadata": {},
     "output_type": "execute_result"
    }
   ],
   "source": [
    "df_balanced.head()"
   ]
  },
  {
   "cell_type": "markdown",
   "id": "b8803149",
   "metadata": {},
   "source": [
    "Suppression des stopwords"
   ]
  },
  {
   "cell_type": "code",
   "execution_count": 80,
   "id": "9b700d2d",
   "metadata": {},
   "outputs": [
    {
     "name": "stderr",
     "output_type": "stream",
     "text": [
      "[nltk_data] Downloading package stopwords to\n",
      "[nltk_data]     /Users/sulivanmoreau/nltk_data...\n",
      "[nltk_data]   Package stopwords is already up-to-date!\n"
     ]
    },
    {
     "data": {
      "text/plain": [
       "True"
      ]
     },
     "execution_count": 80,
     "metadata": {},
     "output_type": "execute_result"
    }
   ],
   "source": [
    "import nltk\n",
    "nltk.download('stopwords')\n"
   ]
  },
  {
   "cell_type": "code",
   "execution_count": 81,
   "id": "90fc1772",
   "metadata": {},
   "outputs": [],
   "source": [
    "import re\n",
    "import nltk\n",
    "from nltk.corpus import stopwords\n",
    "from nltk.corpus import stopwords\n",
    "stop_words = set(stopwords.words('english'))\n",
    "\n",
    "def clean_text(text):\n",
    "    text = text.lower()  # minuscules\n",
    "    text = re.sub(r\"http\\S+\", \"\", text)  # liens\n",
    "    text = re.sub(r\"@\\w+\", \"\", text)     # mentions\n",
    "    text = re.sub(r\"#\\w+\", \"\", text)     # hashtags\n",
    "    text = re.sub(r\"[^a-zA-Z\\s]\", \"\", text)  # ponctuation/chiffres\n",
    "    words = text.split()\n",
    "    words = [w for w in words if w not in stop_words]  # stopwords\n",
    "    return \" \".join(words)\n",
    "\n",
    "# Nouvelle colonne nettoyée\n",
    "df_balanced[\"clean_text\"] = df_balanced[\"text\"].apply(clean_text)\n",
    "df_balanced.drop(columns=['text'], inplace=True)  # Supprimer les colonnes originales\n"
   ]
  },
  {
   "cell_type": "code",
   "execution_count": 82,
   "id": "f0545a58",
   "metadata": {},
   "outputs": [
    {
     "data": {
      "text/html": [
       "<div>\n",
       "<style scoped>\n",
       "    .dataframe tbody tr th:only-of-type {\n",
       "        vertical-align: middle;\n",
       "    }\n",
       "\n",
       "    .dataframe tbody tr th {\n",
       "        vertical-align: top;\n",
       "    }\n",
       "\n",
       "    .dataframe thead th {\n",
       "        text-align: right;\n",
       "    }\n",
       "</style>\n",
       "<table border=\"1\" class=\"dataframe\">\n",
       "  <thead>\n",
       "    <tr style=\"text-align: right;\">\n",
       "      <th></th>\n",
       "      <th>keyword</th>\n",
       "      <th>target</th>\n",
       "      <th>char_count</th>\n",
       "      <th>word_count</th>\n",
       "      <th>clean_text</th>\n",
       "    </tr>\n",
       "  </thead>\n",
       "  <tbody>\n",
       "    <tr>\n",
       "      <th>7335</th>\n",
       "      <td>wildfire</td>\n",
       "      <td>1</td>\n",
       "      <td>120</td>\n",
       "      <td>13</td>\n",
       "      <td>california wildfire destroys homes crews advan...</td>\n",
       "    </tr>\n",
       "    <tr>\n",
       "      <th>1271</th>\n",
       "      <td>burned</td>\n",
       "      <td>0</td>\n",
       "      <td>132</td>\n",
       "      <td>22</td>\n",
       "      <td>always look silver lining barn burned ground s...</td>\n",
       "    </tr>\n",
       "    <tr>\n",
       "      <th>7248</th>\n",
       "      <td>weapons</td>\n",
       "      <td>0</td>\n",
       "      <td>138</td>\n",
       "      <td>23</td>\n",
       "      <td>slightly doesnt help suh wake practice think g...</td>\n",
       "    </tr>\n",
       "    <tr>\n",
       "      <th>4105</th>\n",
       "      <td>hail</td>\n",
       "      <td>1</td>\n",
       "      <td>137</td>\n",
       "      <td>22</td>\n",
       "      <td>unr issues severe thunderstorm warning wind mp...</td>\n",
       "    </tr>\n",
       "    <tr>\n",
       "      <th>5346</th>\n",
       "      <td>pandemonium</td>\n",
       "      <td>0</td>\n",
       "      <td>88</td>\n",
       "      <td>11</td>\n",
       "      <td>exquisite asian sto</td>\n",
       "    </tr>\n",
       "  </tbody>\n",
       "</table>\n",
       "</div>"
      ],
      "text/plain": [
       "          keyword  target  char_count  word_count  \\\n",
       "7335     wildfire       1         120          13   \n",
       "1271       burned       0         132          22   \n",
       "7248      weapons       0         138          23   \n",
       "4105         hail       1         137          22   \n",
       "5346  pandemonium       0          88          11   \n",
       "\n",
       "                                             clean_text  \n",
       "7335  california wildfire destroys homes crews advan...  \n",
       "1271  always look silver lining barn burned ground s...  \n",
       "7248  slightly doesnt help suh wake practice think g...  \n",
       "4105  unr issues severe thunderstorm warning wind mp...  \n",
       "5346                                exquisite asian sto  "
      ]
     },
     "execution_count": 82,
     "metadata": {},
     "output_type": "execute_result"
    }
   ],
   "source": [
    "df_balanced.head()"
   ]
  },
  {
   "cell_type": "markdown",
   "id": "8b0f968f",
   "metadata": {},
   "source": [
    "Suppression des URL"
   ]
  },
  {
   "cell_type": "code",
   "execution_count": 83,
   "id": "5c01f228",
   "metadata": {},
   "outputs": [],
   "source": [
    "import re\n",
    "\n",
    "def remove_urls(text):\n",
    "    return re.sub(r\"http\\S+|www.\\S+\", \"\", text)\n"
   ]
  },
  {
   "cell_type": "code",
   "execution_count": 84,
   "id": "00e4d9fa",
   "metadata": {},
   "outputs": [],
   "source": [
    "df_balanced[\"text_no_url\"] = df_balanced[\"clean_text\"].apply(remove_urls)\n",
    "df_balanced.drop(columns=['clean_text'], inplace=True)  # Supprimer la colonne nettoyée\n"
   ]
  },
  {
   "cell_type": "markdown",
   "id": "1f325ae5",
   "metadata": {},
   "source": [
    "Suppresion des émoji et mention"
   ]
  },
  {
   "cell_type": "code",
   "execution_count": 85,
   "id": "8b1e9de2",
   "metadata": {},
   "outputs": [],
   "source": [
    "import re\n",
    "\n",
    "def clean_special_tokens(text):\n",
    "    # Supprimer les URLs\n",
    "    text = re.sub(r\"http\\S+|www.\\S+\", \"\", text)\n",
    "    # Supprimer les mentions @username\n",
    "    text = re.sub(r\"@\\w+\", \"\", text)\n",
    "    # Supprimer les hashtags #mot (on enlève tout, pas juste le #)\n",
    "    text = re.sub(r\"#\\w+\", \"\", text)\n",
    "    # Supprimer les émojis (plages unicode)\n",
    "    emoji_pattern = re.compile(\"[\"\n",
    "        u\"\\U0001F600-\\U0001F64F\"\n",
    "        u\"\\U0001F300-\\U0001F5FF\"\n",
    "        u\"\\U0001F680-\\U0001F6FF\"\n",
    "        u\"\\U0001F1E0-\\U0001F1FF\"\n",
    "        u\"\\U00002700-\\U000027BF\"\n",
    "        u\"\\U000024C2-\\U0001F251\"\n",
    "        \"]+\", flags=re.UNICODE)\n",
    "    text = emoji_pattern.sub(r\"\", text)\n",
    "    return text.strip()\n",
    "\n"
   ]
  },
  {
   "cell_type": "code",
   "execution_count": 86,
   "id": "2ae55bc2",
   "metadata": {},
   "outputs": [],
   "source": [
    "df[\"text_cleaned\"] = df[\"text\"].apply(clean_special_tokens)\n",
    "\n"
   ]
  },
  {
   "cell_type": "code",
   "execution_count": 87,
   "id": "6107f1a4",
   "metadata": {},
   "outputs": [
    {
     "data": {
      "text/html": [
       "<div>\n",
       "<style scoped>\n",
       "    .dataframe tbody tr th:only-of-type {\n",
       "        vertical-align: middle;\n",
       "    }\n",
       "\n",
       "    .dataframe tbody tr th {\n",
       "        vertical-align: top;\n",
       "    }\n",
       "\n",
       "    .dataframe thead th {\n",
       "        text-align: right;\n",
       "    }\n",
       "</style>\n",
       "<table border=\"1\" class=\"dataframe\">\n",
       "  <thead>\n",
       "    <tr style=\"text-align: right;\">\n",
       "      <th></th>\n",
       "      <th>keyword</th>\n",
       "      <th>target</th>\n",
       "      <th>char_count</th>\n",
       "      <th>word_count</th>\n",
       "      <th>text_no_url</th>\n",
       "    </tr>\n",
       "  </thead>\n",
       "  <tbody>\n",
       "    <tr>\n",
       "      <th>7335</th>\n",
       "      <td>wildfire</td>\n",
       "      <td>1</td>\n",
       "      <td>120</td>\n",
       "      <td>13</td>\n",
       "      <td>california wildfire destroys homes crews advan...</td>\n",
       "    </tr>\n",
       "    <tr>\n",
       "      <th>1271</th>\n",
       "      <td>burned</td>\n",
       "      <td>0</td>\n",
       "      <td>132</td>\n",
       "      <td>22</td>\n",
       "      <td>always look silver lining barn burned ground s...</td>\n",
       "    </tr>\n",
       "    <tr>\n",
       "      <th>7248</th>\n",
       "      <td>weapons</td>\n",
       "      <td>0</td>\n",
       "      <td>138</td>\n",
       "      <td>23</td>\n",
       "      <td>slightly doesnt help suh wake practice think g...</td>\n",
       "    </tr>\n",
       "    <tr>\n",
       "      <th>4105</th>\n",
       "      <td>hail</td>\n",
       "      <td>1</td>\n",
       "      <td>137</td>\n",
       "      <td>22</td>\n",
       "      <td>unr issues severe thunderstorm warning wind mp...</td>\n",
       "    </tr>\n",
       "    <tr>\n",
       "      <th>5346</th>\n",
       "      <td>pandemonium</td>\n",
       "      <td>0</td>\n",
       "      <td>88</td>\n",
       "      <td>11</td>\n",
       "      <td>exquisite asian sto</td>\n",
       "    </tr>\n",
       "  </tbody>\n",
       "</table>\n",
       "</div>"
      ],
      "text/plain": [
       "          keyword  target  char_count  word_count  \\\n",
       "7335     wildfire       1         120          13   \n",
       "1271       burned       0         132          22   \n",
       "7248      weapons       0         138          23   \n",
       "4105         hail       1         137          22   \n",
       "5346  pandemonium       0          88          11   \n",
       "\n",
       "                                            text_no_url  \n",
       "7335  california wildfire destroys homes crews advan...  \n",
       "1271  always look silver lining barn burned ground s...  \n",
       "7248  slightly doesnt help suh wake practice think g...  \n",
       "4105  unr issues severe thunderstorm warning wind mp...  \n",
       "5346                                exquisite asian sto  "
      ]
     },
     "execution_count": 87,
     "metadata": {},
     "output_type": "execute_result"
    }
   ],
   "source": [
    "df_balanced.head()"
   ]
  },
  {
   "cell_type": "code",
   "execution_count": null,
   "id": "d7084dd0",
   "metadata": {},
   "outputs": [],
   "source": [
    "clean_df_0 = df_balanced[df_balanced['target'] == 0]\n",
    "clean_df_1 = df_balanced[df_balanced['target'] == 1]"
   ]
  },
  {
   "cell_type": "code",
   "execution_count": 90,
   "id": "5eeda3de",
   "metadata": {},
   "outputs": [
    {
     "data": {
      "image/png": "[encoded data removed]",
      "text/plain": [
       "<Figure size 800x500 with 1 Axes>"
      ]
     },
     "metadata": {},
     "output_type": "display_data"
    },
    {
     "data": {
      "image/png": "[encoded data removed]",
      "text/plain": [
       "<Figure size 800x500 with 1 Axes>"
      ]
     },
     "metadata": {},
     "output_type": "display_data"
    }
   ],
   "source": [
    "import matplotlib.pyplot as plt\n",
    "from collections import Counter\n",
    "from sklearn.feature_extraction.text import ENGLISH_STOP_WORDS\n",
    "\n",
    "def get_top_words(series, n=10):\n",
    "    words = \" \".join(series).lower().split()\n",
    "    words = [w for w in words if w not in ENGLISH_STOP_WORDS]\n",
    "    return Counter(words).most_common(n)\n",
    "\n",
    "# Séparation\n",
    "clean_df_0 = df_balanced[df_balanced['target'] == 0]\n",
    "clean_df_1 = df_balanced[df_balanced['target'] == 1]\n",
    "\n",
    "# Top mots\n",
    "top_words_0 = get_top_words(clean_df_0[\"text_no_url\"], 10)\n",
    "top_words_1 = get_top_words(clean_df_1[\"text_no_url\"], 10)\n",
    "\n",
    "# Barplot\n",
    "def plot_top_words(word_freq, title):\n",
    "    words, counts = zip(*word_freq)\n",
    "    plt.figure(figsize=(8, 5))\n",
    "    plt.barh(words[::-1], counts[::-1])\n",
    "    plt.title(title)\n",
    "    plt.xlabel(\"Fréquence\")\n",
    "    plt.tight_layout()\n",
    "    plt.show()\n",
    "\n",
    "plot_top_words(top_words_0, \"Top mots – Non-catastrophe\")\n",
    "plot_top_words(top_words_1, \"Top mots – Catastrophe\")\n"
   ]
  }
 ],
 "metadata": {
  "kernelspec": {
   "display_name": "Python 3",
   "language": "python",
   "name": "python3"
  },
  "language_info": {
   "codemirror_mode": {
    "name": "ipython",
    "version": 3
   },
   "file_extension": ".py",
   "mimetype": "text/x-python",
   "name": "python",
   "nbconvert_exporter": "python",
   "pygments_lexer": "ipython3",
   "version": "3.12.0"
  }
 },
 "nbformat": 4,
 "nbformat_minor": 5
}
